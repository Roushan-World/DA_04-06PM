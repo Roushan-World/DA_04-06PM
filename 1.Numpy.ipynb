{
 "cells": [
  {
   "cell_type": "markdown",
   "id": "074bf0ef-0d68-4f9d-bfad-68c1692efe69",
   "metadata": {},
   "source": [
    "# 1. Numpy\n",
    "\n",
    " * __Numpy provides efficient storage.__\n",
    " * __Numpy provides better ways of handling data for processing.__\n",
    " * __It is fast.__\n",
    " * __it is easy to learn.__\n",
    " * __Numpy user relatively less memory to store data.__"
   ]
  },
  {
   "cell_type": "markdown",
   "id": "23855133-d75b-4c77-9fca-0ec19e59e6f3",
   "metadata": {},
   "source": [
    "# Jupyter\n",
    "\n",
    " * __The Jupyter Notebook is an open source web application that allows you to create line code, equations, visualizations and narrative text.__\n",
    " * __The Notebook has support for over 40 Programming languages, including Python, R, Jullia and Scala.__\n",
    " * __Notebooks can be shared with other using email,Dropbox,GitHub and the Jupyter Notebook viewers.__\n",
    " * __Your Code can produce rich, interactive output HTML, images, vides, LaTeX, and Many custom types.__"
   ]
  },
  {
   "cell_type": "code",
   "execution_count": 1,
   "id": "a4f1824f-53c2-4f0a-a892-8c65638d8cff",
   "metadata": {},
   "outputs": [],
   "source": [
    "import numpy as np"
   ]
  },
  {
   "cell_type": "code",
   "execution_count": 2,
   "id": "ae1a10df-3b75-4b1d-866e-15f0e6ba5697",
   "metadata": {},
   "outputs": [
    {
     "data": {
      "text/plain": [
       "[2, 3, 32, 7]"
      ]
     },
     "execution_count": 2,
     "metadata": {},
     "output_type": "execute_result"
    }
   ],
   "source": [
    "list=[2,3,32,7]\n",
    "list"
   ]
  },
  {
   "cell_type": "code",
   "execution_count": 3,
   "id": "e45d7e29-0f93-49ad-9e43-3829f58142bf",
   "metadata": {},
   "outputs": [
    {
     "data": {
      "text/plain": [
       "list"
      ]
     },
     "execution_count": 3,
     "metadata": {},
     "output_type": "execute_result"
    }
   ],
   "source": [
    "type(list)"
   ]
  },
  {
   "cell_type": "code",
   "execution_count": 4,
   "id": "fbf6b1e0-7a72-4e0f-a822-573fbe8828a8",
   "metadata": {},
   "outputs": [
    {
     "data": {
      "text/plain": [
       "array([ 2,  3, 32,  7])"
      ]
     },
     "execution_count": 4,
     "metadata": {},
     "output_type": "execute_result"
    }
   ],
   "source": [
    "myarray=np.array(list)\n",
    "myarray"
   ]
  },
  {
   "cell_type": "code",
   "execution_count": 5,
   "id": "e5d7760d-fb16-4207-b0d0-b0fbcf209bd1",
   "metadata": {},
   "outputs": [
    {
     "data": {
      "text/plain": [
       "array([ 2,  3, 32,  7], dtype=int8)"
      ]
     },
     "execution_count": 5,
     "metadata": {},
     "output_type": "execute_result"
    }
   ],
   "source": [
    "myarray=np.array([2,3,32,7],np.int8)\n",
    "myarray"
   ]
  },
  {
   "cell_type": "code",
   "execution_count": 6,
   "id": "1655ed4e-83c0-4c50-8dec-aa1134b2e9c4",
   "metadata": {},
   "outputs": [
    {
     "data": {
      "text/plain": [
       "array([ 3,  6, 37,  8], dtype=int64)"
      ]
     },
     "execution_count": 6,
     "metadata": {},
     "output_type": "execute_result"
    }
   ],
   "source": [
    "# 1-D array\n",
    "\n",
    "myarr=np.array([3,6,37,8],np.int64)\n",
    "myarr"
   ]
  },
  {
   "cell_type": "code",
   "execution_count": 7,
   "id": "a58880c1-819d-4787-b6d1-6693c6090f70",
   "metadata": {},
   "outputs": [
    {
     "data": {
      "text/plain": [
       "array([[ 3,  6,  9, 12]], dtype=int64)"
      ]
     },
     "execution_count": 7,
     "metadata": {},
     "output_type": "execute_result"
    }
   ],
   "source": [
    "# 2-D array\n",
    "myarr=np.array([[3,6,9,12]],np.int64)\n",
    "myarr"
   ]
  },
  {
   "cell_type": "code",
   "execution_count": 8,
   "id": "a21a4693-3156-4eaf-a846-09c4f8ad021e",
   "metadata": {},
   "outputs": [
    {
     "data": {
      "text/plain": [
       "array([[ 3,  6,  9, 12]], dtype=int64)"
      ]
     },
     "execution_count": 8,
     "metadata": {},
     "output_type": "execute_result"
    }
   ],
   "source": [
    "myarr"
   ]
  },
  {
   "cell_type": "code",
   "execution_count": 9,
   "id": "2c70c934-f241-4b11-97fc-8c910f7fb09e",
   "metadata": {},
   "outputs": [
    {
     "name": "stdout",
     "output_type": "stream",
     "text": [
      "3\n",
      "6\n",
      "9\n",
      "12\n"
     ]
    },
    {
     "ename": "IndexError",
     "evalue": "index 4 is out of bounds for axis 1 with size 4",
     "output_type": "error",
     "traceback": [
      "\u001b[1;31m---------------------------------------------------------------------------\u001b[0m",
      "\u001b[1;31mIndexError\u001b[0m                                Traceback (most recent call last)",
      "Cell \u001b[1;32mIn[9], line 7\u001b[0m\n\u001b[0;32m      5\u001b[0m \u001b[38;5;28mprint\u001b[39m(myarr[\u001b[38;5;241m0\u001b[39m,\u001b[38;5;241m2\u001b[39m])\n\u001b[0;32m      6\u001b[0m \u001b[38;5;28mprint\u001b[39m(myarr[\u001b[38;5;241m0\u001b[39m,\u001b[38;5;241m3\u001b[39m])\n\u001b[1;32m----> 7\u001b[0m \u001b[38;5;28mprint\u001b[39m(\u001b[43mmyarr\u001b[49m\u001b[43m[\u001b[49m\u001b[38;5;241;43m0\u001b[39;49m\u001b[43m,\u001b[49m\u001b[38;5;241;43m4\u001b[39;49m\u001b[43m]\u001b[49m)\n",
      "\u001b[1;31mIndexError\u001b[0m: index 4 is out of bounds for axis 1 with size 4"
     ]
    }
   ],
   "source": [
    "# finding value with index number\n",
    "\n",
    "print(myarr[0,0])\n",
    "print(myarr[0,1])\n",
    "print(myarr[0,2])\n",
    "print(myarr[0,3])\n",
    "print(myarr[0,4])"
   ]
  },
  {
   "cell_type": "code",
   "execution_count": 10,
   "id": "a1f1db83-2b97-4b69-a195-cfdce436ef51",
   "metadata": {},
   "outputs": [
    {
     "ename": "IndexError",
     "evalue": "index 1 is out of bounds for axis 0 with size 1",
     "output_type": "error",
     "traceback": [
      "\u001b[1;31m---------------------------------------------------------------------------\u001b[0m",
      "\u001b[1;31mIndexError\u001b[0m                                Traceback (most recent call last)",
      "Cell \u001b[1;32mIn[10], line 1\u001b[0m\n\u001b[1;32m----> 1\u001b[0m \u001b[38;5;28mprint\u001b[39m(\u001b[43mmyarr\u001b[49m\u001b[43m[\u001b[49m\u001b[38;5;241;43m1\u001b[39;49m\u001b[43m,\u001b[49m\u001b[38;5;241;43m3\u001b[39;49m\u001b[43m]\u001b[49m)\n",
      "\u001b[1;31mIndexError\u001b[0m: index 1 is out of bounds for axis 0 with size 1"
     ]
    }
   ],
   "source": [
    "print(myarr[1,3])"
   ]
  },
  {
   "cell_type": "code",
   "execution_count": 11,
   "id": "fc1a8bf3-56e9-4f8f-987a-a92fcbcf6e0a",
   "metadata": {},
   "outputs": [
    {
     "data": {
      "text/plain": [
       "(1, 4)"
      ]
     },
     "execution_count": 11,
     "metadata": {},
     "output_type": "execute_result"
    }
   ],
   "source": [
    "# show the details of array\n",
    "\n",
    "myarr.shape"
   ]
  },
  {
   "cell_type": "code",
   "execution_count": 12,
   "id": "73c41f8e-55a5-4b52-8874-1ec08f9f82ee",
   "metadata": {},
   "outputs": [
    {
     "data": {
      "text/plain": [
       "dtype('int8')"
      ]
     },
     "execution_count": 12,
     "metadata": {},
     "output_type": "execute_result"
    }
   ],
   "source": [
    "myarray.dtype"
   ]
  },
  {
   "cell_type": "code",
   "execution_count": 13,
   "id": "060fc7ff-da89-49a0-9972-d73c3c747bac",
   "metadata": {},
   "outputs": [
    {
     "data": {
      "text/plain": [
       "array([[ 3,  6,  9, 12]], dtype=int64)"
      ]
     },
     "execution_count": 13,
     "metadata": {},
     "output_type": "execute_result"
    }
   ],
   "source": [
    "myarr"
   ]
  },
  {
   "cell_type": "code",
   "execution_count": 14,
   "id": "bedc65ea-7f44-4ef7-8331-fa0d650378e4",
   "metadata": {},
   "outputs": [
    {
     "data": {
      "text/plain": [
       "array([[45,  6,  9, 12]], dtype=int64)"
      ]
     },
     "execution_count": 14,
     "metadata": {},
     "output_type": "execute_result"
    }
   ],
   "source": [
    "# how to change element in the numpy array\n",
    "\n",
    "myarr[0,0]=45  #90,50,55\n",
    "myarr"
   ]
  },
  {
   "cell_type": "markdown",
   "id": "df9bdafc-9910-431b-a400-6ee9a3e5dc6d",
   "metadata": {},
   "source": [
    "# Note:\n",
    " * __There are 5 general mechanism for creating array:__\n",
    "    * __1. Conversion from other Python structure.(eg:list,tuples)__\n",
    "    * __2. Instrinsic numpy array Creating object(eg: arange, one, Zeros etc.)__\n",
    "    * __3. Reading arrays from disk, either from standard or custom formats.__\n",
    "    * __4. Creating arrays from raw bytes through the use of string of buffers.__\n",
    "    * __5. Use of special library function eg(random).__"
   ]
  },
  {
   "cell_type": "code",
   "execution_count": 15,
   "id": "27b396bf-5de8-4218-a23e-8ae8f83b4ce8",
   "metadata": {},
   "outputs": [
    {
     "data": {
      "text/plain": [
       "array([[1, 2, 3],\n",
       "       [5, 8, 5],\n",
       "       [0, 3, 1]])"
      ]
     },
     "execution_count": 15,
     "metadata": {},
     "output_type": "execute_result"
    }
   ],
   "source": [
    "listarray=np.array([[1,2,3],[5,8,5],[0,3,1]])\n",
    "listarray"
   ]
  },
  {
   "cell_type": "code",
   "execution_count": 16,
   "id": "53776c6a-9679-4fbb-8d8f-8d3317be0683",
   "metadata": {},
   "outputs": [
    {
     "data": {
      "text/plain": [
       "dtype('int32')"
      ]
     },
     "execution_count": 16,
     "metadata": {},
     "output_type": "execute_result"
    }
   ],
   "source": [
    "# Checking the data type of the array\n",
    "\n",
    "listarray.dtype"
   ]
  },
  {
   "cell_type": "code",
   "execution_count": 17,
   "id": "668350b6-733d-4bb1-b78c-c295c9f81ca0",
   "metadata": {},
   "outputs": [
    {
     "data": {
      "text/plain": [
       "(3, 3)"
      ]
     },
     "execution_count": 17,
     "metadata": {},
     "output_type": "execute_result"
    }
   ],
   "source": [
    "# Checking the shape of the array.\n",
    "listarray.shape"
   ]
  },
  {
   "cell_type": "code",
   "execution_count": 18,
   "id": "f997a86b-1a75-4aa0-bf96-f5af6e3b146f",
   "metadata": {},
   "outputs": [
    {
     "data": {
      "text/plain": [
       "9"
      ]
     },
     "execution_count": 18,
     "metadata": {},
     "output_type": "execute_result"
    }
   ],
   "source": [
    "listarray.size"
   ]
  },
  {
   "cell_type": "code",
   "execution_count": 19,
   "id": "cfb6bf95-b80a-42c2-a125-4fe0f8b4764a",
   "metadata": {},
   "outputs": [
    {
     "data": {
      "text/plain": [
       "array({34, 99, 36, 88, 25}, dtype=object)"
      ]
     },
     "execution_count": 19,
     "metadata": {},
     "output_type": "execute_result"
    }
   ],
   "source": [
    "# Set array  # Data type object\n",
    "\n",
    "np.array({34,25,36,88,99},dtype=object)\n"
   ]
  },
  {
   "cell_type": "code",
   "execution_count": 20,
   "id": "638afcc8-71d7-4028-99e6-5ca690cf3a34",
   "metadata": {},
   "outputs": [
    {
     "data": {
      "text/plain": [
       "array([[0., 0., 0., 0., 0.],\n",
       "       [0., 0., 0., 0., 0.],\n",
       "       [0., 0., 0., 0., 0.]])"
      ]
     },
     "execution_count": 20,
     "metadata": {},
     "output_type": "execute_result"
    }
   ],
   "source": [
    "zero=np.zeros((3,5))\n",
    "zero"
   ]
  },
  {
   "cell_type": "code",
   "execution_count": 21,
   "id": "cf84522d-95fb-4e4e-bf1a-a5f4fb3dbbfd",
   "metadata": {},
   "outputs": [
    {
     "data": {
      "text/plain": [
       "dtype('float64')"
      ]
     },
     "execution_count": 21,
     "metadata": {},
     "output_type": "execute_result"
    }
   ],
   "source": [
    "zero.dtype"
   ]
  },
  {
   "cell_type": "code",
   "execution_count": 22,
   "id": "a9f631a8-5ed2-4a82-85e9-741ae8e817cf",
   "metadata": {},
   "outputs": [],
   "source": [
    "range=np.arange(15)"
   ]
  },
  {
   "cell_type": "code",
   "execution_count": 23,
   "id": "d80bb246-5050-4b1e-a514-3eb09f80ec38",
   "metadata": {},
   "outputs": [
    {
     "data": {
      "text/plain": [
       "array([ 0,  1,  2,  3,  4,  5,  6,  7,  8,  9, 10, 11, 12, 13, 14])"
      ]
     },
     "execution_count": 23,
     "metadata": {},
     "output_type": "execute_result"
    }
   ],
   "source": [
    "range"
   ]
  },
  {
   "cell_type": "code",
   "execution_count": 24,
   "id": "39b8d2e3-b2ab-4b45-89d7-de61dc8efec1",
   "metadata": {},
   "outputs": [
    {
     "data": {
      "text/plain": [
       "array([50.        , 50.00050505, 50.0010101 , 50.00151515, 50.0020202 ,\n",
       "       50.00252525, 50.0030303 , 50.00353535, 50.0040404 , 50.00454545,\n",
       "       50.00505051, 50.00555556, 50.00606061, 50.00656566, 50.00707071,\n",
       "       50.00757576, 50.00808081, 50.00858586, 50.00909091, 50.00959596,\n",
       "       50.01010101, 50.01060606, 50.01111111, 50.01161616, 50.01212121,\n",
       "       50.01262626, 50.01313131, 50.01363636, 50.01414141, 50.01464646,\n",
       "       50.01515152, 50.01565657, 50.01616162, 50.01666667, 50.01717172,\n",
       "       50.01767677, 50.01818182, 50.01868687, 50.01919192, 50.01969697,\n",
       "       50.02020202, 50.02070707, 50.02121212, 50.02171717, 50.02222222,\n",
       "       50.02272727, 50.02323232, 50.02373737, 50.02424242, 50.02474747,\n",
       "       50.02525253, 50.02575758, 50.02626263, 50.02676768, 50.02727273,\n",
       "       50.02777778, 50.02828283, 50.02878788, 50.02929293, 50.02979798,\n",
       "       50.03030303, 50.03080808, 50.03131313, 50.03181818, 50.03232323,\n",
       "       50.03282828, 50.03333333, 50.03383838, 50.03434343, 50.03484848,\n",
       "       50.03535354, 50.03585859, 50.03636364, 50.03686869, 50.03737374,\n",
       "       50.03787879, 50.03838384, 50.03888889, 50.03939394, 50.03989899,\n",
       "       50.04040404, 50.04090909, 50.04141414, 50.04191919, 50.04242424,\n",
       "       50.04292929, 50.04343434, 50.04393939, 50.04444444, 50.04494949,\n",
       "       50.04545455, 50.0459596 , 50.04646465, 50.0469697 , 50.04747475,\n",
       "       50.0479798 , 50.04848485, 50.0489899 , 50.04949495, 50.05      ])"
      ]
     },
     "execution_count": 24,
     "metadata": {},
     "output_type": "execute_result"
    }
   ],
   "source": [
    "np.linspace(50,50.05,num=100)\n"
   ]
  },
  {
   "cell_type": "code",
   "execution_count": 25,
   "id": "7b8aa481-2766-4573-bfb6-69715cebba93",
   "metadata": {},
   "outputs": [
    {
     "data": {
      "text/plain": [
       "array([2.  , 2.01, 2.02, 2.03, 2.04, 2.05, 2.06, 2.07, 2.08, 2.09, 2.1 ,\n",
       "       2.11, 2.12, 2.13, 2.14, 2.15, 2.16, 2.17, 2.18, 2.19, 2.2 , 2.21,\n",
       "       2.22, 2.23, 2.24, 2.25, 2.26, 2.27, 2.28, 2.29, 2.3 , 2.31, 2.32,\n",
       "       2.33, 2.34, 2.35, 2.36, 2.37, 2.38, 2.39, 2.4 , 2.41, 2.42, 2.43,\n",
       "       2.44, 2.45, 2.46, 2.47, 2.48, 2.49, 2.5 , 2.51, 2.52, 2.53, 2.54,\n",
       "       2.55, 2.56, 2.57, 2.58, 2.59, 2.6 , 2.61, 2.62, 2.63, 2.64, 2.65,\n",
       "       2.66, 2.67, 2.68, 2.69, 2.7 , 2.71, 2.72, 2.73, 2.74, 2.75, 2.76,\n",
       "       2.77, 2.78, 2.79, 2.8 , 2.81, 2.82, 2.83, 2.84, 2.85, 2.86, 2.87,\n",
       "       2.88, 2.89, 2.9 , 2.91, 2.92, 2.93, 2.94, 2.95, 2.96, 2.97, 2.98,\n",
       "       2.99])"
      ]
     },
     "execution_count": 25,
     "metadata": {},
     "output_type": "execute_result"
    }
   ],
   "source": [
    "np.linspace(2.0,3.0,num=100, endpoint=False)"
   ]
  },
  {
   "cell_type": "code",
   "execution_count": 26,
   "id": "b9dcd6ac-d061-4a40-8074-eb35c9eeadb9",
   "metadata": {},
   "outputs": [
    {
     "data": {
      "text/plain": [
       "array([[9.02582318e-312, 7.70742408e-322, 0.00000000e+000,\n",
       "        0.00000000e+000, 8.01097888e-307, 1.15998412e-028],\n",
       "       [4.31603868e-080, 1.94919985e-153, 1.35717430e+131,\n",
       "        7.06652016e-096, 7.06652016e-096, 1.81148490e-152],\n",
       "       [9.37041222e-076, 6.98345624e-077, 6.98345624e-077,\n",
       "        6.01391519e-154, 7.06673073e-096, 7.06652016e-096],\n",
       "       [7.18988929e+140, 4.99874708e+217, 4.47303447e-143,\n",
       "        1.46899974e+179, 9.08367237e+223, 1.16466228e-028]])"
      ]
     },
     "execution_count": 26,
     "metadata": {},
     "output_type": "execute_result"
    }
   ],
   "source": [
    "# empty array\n",
    "\n",
    "emp=np.empty((4,6))\n",
    "emp"
   ]
  },
  {
   "cell_type": "code",
   "execution_count": 27,
   "id": "33a1b14d-ab45-439d-9ff9-164c5d9d1d17",
   "metadata": {},
   "outputs": [
    {
     "data": {
      "text/plain": [
       "array([      0,       1,       0, 5570652,    1120,       0,     768,\n",
       "             0, 7209065, 6619136])"
      ]
     },
     "execution_count": 27,
     "metadata": {},
     "output_type": "execute_result"
    }
   ],
   "source": [
    "# matrix\n",
    "\n",
    "b=np.empty(10,dtype=int)\n",
    "b"
   ]
  },
  {
   "cell_type": "code",
   "execution_count": 28,
   "id": "d92118e2-9248-49ce-af46-f81fb56edbc7",
   "metadata": {},
   "outputs": [
    {
     "name": "stdout",
     "output_type": "stream",
     "text": [
      "[      0       1       0 5570652    1120       0     768       0 7209065\n",
      " 6619136]\n"
     ]
    }
   ],
   "source": [
    "print(b)"
   ]
  },
  {
   "cell_type": "code",
   "execution_count": 29,
   "id": "e02bcd2f-e9ec-4fa2-bec9-42f6bf80b4a8",
   "metadata": {},
   "outputs": [
    {
     "data": {
      "text/plain": [
       "array([[1., 0., 0., ..., 0., 0., 0.],\n",
       "       [0., 1., 0., ..., 0., 0., 0.],\n",
       "       [0., 0., 1., ..., 0., 0., 0.],\n",
       "       ...,\n",
       "       [0., 0., 0., ..., 1., 0., 0.],\n",
       "       [0., 0., 0., ..., 0., 1., 0.],\n",
       "       [0., 0., 0., ..., 0., 0., 1.]])"
      ]
     },
     "execution_count": 29,
     "metadata": {},
     "output_type": "execute_result"
    }
   ],
   "source": [
    "# identity\n",
    "\n",
    "ide=np.identity(1000)\n",
    "ide"
   ]
  },
  {
   "cell_type": "code",
   "execution_count": 30,
   "id": "4654ebf3-b6d7-4308-9f0c-1c56f498022b",
   "metadata": {},
   "outputs": [
    {
     "data": {
      "text/plain": [
       "array([ 0,  1,  2,  3,  4,  5,  6,  7,  8,  9, 10, 11, 12, 13, 14, 15, 16,\n",
       "       17, 18, 19, 20, 21, 22, 23, 24, 25, 26, 27, 28, 29, 30, 31, 32, 33,\n",
       "       34, 35, 36, 37, 38, 39, 40, 41, 42, 43, 44, 45, 46, 47, 48, 49, 50,\n",
       "       51, 52, 53, 54, 55, 56, 57, 58, 59, 60, 61, 62, 63, 64, 65, 66, 67,\n",
       "       68, 69, 70, 71, 72, 73, 74, 75, 76, 77, 78, 79, 80, 81, 82, 83, 84,\n",
       "       85, 86, 87, 88, 89, 90, 91, 92, 93, 94, 95, 96, 97, 98])"
      ]
     },
     "execution_count": 30,
     "metadata": {},
     "output_type": "execute_result"
    }
   ],
   "source": [
    "# arange\n",
    "\n",
    "arr=np.arange(99)\n",
    "arr"
   ]
  },
  {
   "cell_type": "code",
   "execution_count": 31,
   "id": "c25d1c1d-9091-491f-946a-095fd7b694e8",
   "metadata": {},
   "outputs": [
    {
     "data": {
      "text/plain": [
       "array([[ 0,  1,  2,  3,  4,  5,  6,  7,  8,  9, 10, 11, 12, 13, 14, 15,\n",
       "        16, 17, 18, 19, 20, 21, 22, 23, 24, 25, 26, 27, 28, 29, 30, 31,\n",
       "        32],\n",
       "       [33, 34, 35, 36, 37, 38, 39, 40, 41, 42, 43, 44, 45, 46, 47, 48,\n",
       "        49, 50, 51, 52, 53, 54, 55, 56, 57, 58, 59, 60, 61, 62, 63, 64,\n",
       "        65],\n",
       "       [66, 67, 68, 69, 70, 71, 72, 73, 74, 75, 76, 77, 78, 79, 80, 81,\n",
       "        82, 83, 84, 85, 86, 87, 88, 89, 90, 91, 92, 93, 94, 95, 96, 97,\n",
       "        98]])"
      ]
     },
     "execution_count": 31,
     "metadata": {},
     "output_type": "execute_result"
    }
   ],
   "source": [
    "arr.reshape(3,33)"
   ]
  },
  {
   "cell_type": "code",
   "execution_count": 32,
   "id": "23251a22-7669-467b-b4a2-074db78ee161",
   "metadata": {},
   "outputs": [
    {
     "data": {
      "text/plain": [
       "(99,)"
      ]
     },
     "execution_count": 32,
     "metadata": {},
     "output_type": "execute_result"
    }
   ],
   "source": [
    "arr.shape"
   ]
  },
  {
   "cell_type": "code",
   "execution_count": 33,
   "id": "9094903c-3e13-4778-850f-5683e7be843e",
   "metadata": {},
   "outputs": [
    {
     "data": {
      "text/plain": [
       "dtype('int32')"
      ]
     },
     "execution_count": 33,
     "metadata": {},
     "output_type": "execute_result"
    }
   ],
   "source": [
    "arr.dtype"
   ]
  },
  {
   "cell_type": "code",
   "execution_count": 34,
   "id": "df4a7c64-c4d9-4e6f-8239-133d5dc23bbe",
   "metadata": {},
   "outputs": [
    {
     "data": {
      "text/plain": [
       "[[1, 2, 3], [4, 5, 6], [7, 8, 0]]"
      ]
     },
     "execution_count": 34,
     "metadata": {},
     "output_type": "execute_result"
    }
   ],
   "source": [
    "# numpy array\n",
    "x=[[1,2,3],[4,5,6],[7,8,0]]\n",
    "x"
   ]
  },
  {
   "cell_type": "code",
   "execution_count": 35,
   "id": "a071c196-cf8f-4779-b44c-ecd5a001b95f",
   "metadata": {},
   "outputs": [
    {
     "ename": "AttributeError",
     "evalue": "'list' object has no attribute 'shape'",
     "output_type": "error",
     "traceback": [
      "\u001b[1;31m---------------------------------------------------------------------------\u001b[0m",
      "\u001b[1;31mAttributeError\u001b[0m                            Traceback (most recent call last)",
      "Cell \u001b[1;32mIn[35], line 1\u001b[0m\n\u001b[1;32m----> 1\u001b[0m \u001b[43mx\u001b[49m\u001b[38;5;241;43m.\u001b[39;49m\u001b[43mshape\u001b[49m\n",
      "\u001b[1;31mAttributeError\u001b[0m: 'list' object has no attribute 'shape'"
     ]
    }
   ],
   "source": [
    "x.shape"
   ]
  },
  {
   "cell_type": "code",
   "execution_count": 36,
   "id": "a84c5333-1056-46fc-b34f-8824f71c0da5",
   "metadata": {},
   "outputs": [
    {
     "data": {
      "text/plain": [
       "array([[1, 2, 3],\n",
       "       [4, 5, 6],\n",
       "       [7, 8, 0]])"
      ]
     },
     "execution_count": 36,
     "metadata": {},
     "output_type": "execute_result"
    }
   ],
   "source": [
    "ar=np.array(x)\n",
    "ar"
   ]
  },
  {
   "cell_type": "code",
   "execution_count": 37,
   "id": "606c527a-7685-42b3-b0ac-3179edd3af7a",
   "metadata": {},
   "outputs": [
    {
     "data": {
      "text/plain": [
       "(3, 3)"
      ]
     },
     "execution_count": 37,
     "metadata": {},
     "output_type": "execute_result"
    }
   ],
   "source": [
    "ar.shape"
   ]
  },
  {
   "cell_type": "code",
   "execution_count": 38,
   "id": "3d5a3e21-7866-4947-9fc4-6474d0160714",
   "metadata": {},
   "outputs": [
    {
     "data": {
      "text/plain": [
       "array([[1, 2, 3],\n",
       "       [4, 5, 6],\n",
       "       [7, 8, 0]])"
      ]
     },
     "execution_count": 38,
     "metadata": {},
     "output_type": "execute_result"
    }
   ],
   "source": [
    "ar"
   ]
  },
  {
   "cell_type": "code",
   "execution_count": 39,
   "id": "0e72615d-bba9-4e1f-8669-d15aacb188d2",
   "metadata": {},
   "outputs": [
    {
     "data": {
      "text/plain": [
       "array([12, 15,  9])"
      ]
     },
     "execution_count": 39,
     "metadata": {},
     "output_type": "execute_result"
    }
   ],
   "source": [
    "ar.sum(axis=0)"
   ]
  },
  {
   "cell_type": "code",
   "execution_count": 40,
   "id": "a3038775-a19e-49ec-b640-55684ba37be9",
   "metadata": {},
   "outputs": [
    {
     "data": {
      "text/plain": [
       "array([ 6, 15, 15])"
      ]
     },
     "execution_count": 40,
     "metadata": {},
     "output_type": "execute_result"
    }
   ],
   "source": [
    "ar.sum(axis=1)"
   ]
  },
  {
   "cell_type": "code",
   "execution_count": 41,
   "id": "3b933e2e-4822-4256-9b23-bd03f7469b54",
   "metadata": {},
   "outputs": [
    {
     "name": "stdout",
     "output_type": "stream",
     "text": [
      "[3 4 5]\n"
     ]
    }
   ],
   "source": [
    "a= np.array([1,2,3])\n",
    "b=a+2\n",
    "print(b)"
   ]
  },
  {
   "cell_type": "code",
   "execution_count": 42,
   "id": "9189d4d1-a0e6-49a9-afee-de0e56e9f613",
   "metadata": {},
   "outputs": [
    {
     "name": "stdout",
     "output_type": "stream",
     "text": [
      "[3 6 9]\n"
     ]
    }
   ],
   "source": [
    "c=np.array([2,4,6])\n",
    "d=a+c\n",
    "print(d)"
   ]
  },
  {
   "cell_type": "code",
   "execution_count": 43,
   "id": "31dc3baf-9c58-4252-a905-d6b3f4a96785",
   "metadata": {},
   "outputs": [
    {
     "data": {
      "text/plain": [
       "array([1, 2, 3])"
      ]
     },
     "execution_count": 43,
     "metadata": {},
     "output_type": "execute_result"
    }
   ],
   "source": [
    "a"
   ]
  },
  {
   "cell_type": "code",
   "execution_count": 44,
   "id": "60c58622-7abd-420c-b078-0a55c1f1e9dc",
   "metadata": {},
   "outputs": [
    {
     "data": {
      "text/plain": [
       "array([3, 6, 9])"
      ]
     },
     "execution_count": 44,
     "metadata": {},
     "output_type": "execute_result"
    }
   ],
   "source": [
    "a1=3*a\n",
    "a1"
   ]
  },
  {
   "cell_type": "code",
   "execution_count": 45,
   "id": "dba4a7c5-d770-412d-b2fa-20ada54f7a67",
   "metadata": {},
   "outputs": [
    {
     "data": {
      "text/plain": [
       "array([1, 2, 3])"
      ]
     },
     "execution_count": 45,
     "metadata": {},
     "output_type": "execute_result"
    }
   ],
   "source": [
    "a"
   ]
  },
  {
   "cell_type": "code",
   "execution_count": 46,
   "id": "8ba5aa0c-7edd-4f62-a03a-77e0791f5d94",
   "metadata": {},
   "outputs": [
    {
     "data": {
      "text/plain": [
       "array([0.5, 1. , 1.5])"
      ]
     },
     "execution_count": 46,
     "metadata": {},
     "output_type": "execute_result"
    }
   ],
   "source": [
    "a2=a/2\n",
    "a2"
   ]
  },
  {
   "cell_type": "code",
   "execution_count": 47,
   "id": "90ff77cb-86e2-4dbb-ad32-0ed24a18be10",
   "metadata": {},
   "outputs": [
    {
     "data": {
      "text/plain": [
       "array([[1, 2, 3],\n",
       "       [4, 5, 6],\n",
       "       [7, 8, 0]])"
      ]
     },
     "execution_count": 47,
     "metadata": {},
     "output_type": "execute_result"
    }
   ],
   "source": [
    "ar"
   ]
  },
  {
   "cell_type": "code",
   "execution_count": 48,
   "id": "9fc6bf38-1b15-43e1-a631-200205685790",
   "metadata": {},
   "outputs": [
    {
     "data": {
      "text/plain": [
       "array([[0.5, 1. , 1.5],\n",
       "       [2. , 2.5, 3. ],\n",
       "       [3.5, 4. , 0. ]])"
      ]
     },
     "execution_count": 48,
     "metadata": {},
     "output_type": "execute_result"
    }
   ],
   "source": [
    "c3=ar/2\n",
    "c3"
   ]
  },
  {
   "cell_type": "code",
   "execution_count": 49,
   "id": "5338f548-0455-47de-b601-aecf15e72fc3",
   "metadata": {},
   "outputs": [
    {
     "data": {
      "text/plain": [
       "(array([1, 2, 3]), array([3, 4, 5]))"
      ]
     },
     "execution_count": 49,
     "metadata": {},
     "output_type": "execute_result"
    }
   ],
   "source": [
    "a,b"
   ]
  },
  {
   "cell_type": "code",
   "execution_count": 50,
   "id": "5f06d236-6a08-4626-9972-98db811b3141",
   "metadata": {},
   "outputs": [
    {
     "data": {
      "text/plain": [
       "array([ 3,  8, 15])"
      ]
     },
     "execution_count": 50,
     "metadata": {},
     "output_type": "execute_result"
    }
   ],
   "source": [
    "c4=a*b\n",
    "c4"
   ]
  },
  {
   "cell_type": "code",
   "execution_count": 51,
   "id": "a769bb82-fabb-49fb-a3ab-46697c5db309",
   "metadata": {},
   "outputs": [
    {
     "data": {
      "text/plain": [
       "array([[1, 2, 3],\n",
       "       [4, 5, 6],\n",
       "       [7, 8, 0]])"
      ]
     },
     "execution_count": 51,
     "metadata": {},
     "output_type": "execute_result"
    }
   ],
   "source": [
    "ar"
   ]
  },
  {
   "cell_type": "code",
   "execution_count": 52,
   "id": "eda1d5a7-19f6-4e13-9bc5-db574b13800c",
   "metadata": {},
   "outputs": [
    {
     "data": {
      "text/plain": [
       "(3, 3)"
      ]
     },
     "execution_count": 52,
     "metadata": {},
     "output_type": "execute_result"
    }
   ],
   "source": [
    "ar.shape"
   ]
  },
  {
   "cell_type": "code",
   "execution_count": 53,
   "id": "4ff7d019-9259-4df9-a427-fafeccd22dd1",
   "metadata": {},
   "outputs": [
    {
     "data": {
      "text/plain": [
       "array([[1, 2, 3],\n",
       "       [4, 5, 6],\n",
       "       [7, 8, 0]])"
      ]
     },
     "execution_count": 53,
     "metadata": {},
     "output_type": "execute_result"
    }
   ],
   "source": [
    "ar"
   ]
  },
  {
   "cell_type": "markdown",
   "id": "f6af9651-5ae6-4e91-8621-c9ae4fa019e7",
   "metadata": {},
   "source": [
    "# Transpose()\n",
    "\n",
    " * __With the help of Numpy numpy.transpose(), we can perofrm the simple function of transpose within one line using numpy.transpose() method of numpy. It can transpose the 2-D array on the other hand it has no effect on 1-D arrays. This method transpose the 2-D arrays.__"
   ]
  },
  {
   "cell_type": "code",
   "execution_count": 54,
   "id": "742f6223-07d4-44ac-ba7a-febd1565a7de",
   "metadata": {},
   "outputs": [
    {
     "data": {
      "text/plain": [
       "array([[1, 4, 7],\n",
       "       [2, 5, 8],\n",
       "       [3, 6, 0]])"
      ]
     },
     "execution_count": 54,
     "metadata": {},
     "output_type": "execute_result"
    }
   ],
   "source": [
    "\n",
    "ar.T"
   ]
  },
  {
   "cell_type": "code",
   "execution_count": 14,
   "id": "aa110fb4-5b59-4055-97da-9c4de4883718",
   "metadata": {},
   "outputs": [
    {
     "data": {
      "text/plain": [
       "array([[ 10,  20,  30],\n",
       "       [ 40,  50,  60],\n",
       "       [ 70,  80, 100],\n",
       "       [110, 120, 140]])"
      ]
     },
     "execution_count": 14,
     "metadata": {},
     "output_type": "execute_result"
    }
   ],
   "source": [
    "x=np.array([[10,20,30],[40,50,60],[70,80,100],[110,120,140]])\n",
    "x"
   ]
  },
  {
   "cell_type": "code",
   "execution_count": null,
   "id": "79707eb6-9366-42ef-87c6-95b0beed4f45",
   "metadata": {},
   "outputs": [],
   "source": [
    "# sum sub, multiply,divition, shape, size, dtype, Transpose"
   ]
  },
  {
   "cell_type": "code",
   "execution_count": 57,
   "id": "76936892-5cbb-4e6c-8031-77f21e1ea3be",
   "metadata": {},
   "outputs": [
    {
     "data": {
      "text/plain": [
       "array([[ 10,  20,  30],\n",
       "       [ 40,  50,  60],\n",
       "       [ 70,  80, 100],\n",
       "       [110, 120, 140]])"
      ]
     },
     "execution_count": 57,
     "metadata": {},
     "output_type": "execute_result"
    }
   ],
   "source": [
    "x"
   ]
  },
  {
   "cell_type": "code",
   "execution_count": 58,
   "id": "d5356576-b558-48b0-b2f9-cb86671e92db",
   "metadata": {},
   "outputs": [
    {
     "data": {
      "text/plain": [
       "array([[ 10,  40,  70, 110],\n",
       "       [ 20,  50,  80, 120],\n",
       "       [ 30,  60, 100, 140]])"
      ]
     },
     "execution_count": 58,
     "metadata": {},
     "output_type": "execute_result"
    }
   ],
   "source": [
    "x.T"
   ]
  },
  {
   "cell_type": "code",
   "execution_count": 69,
   "id": "bac3e750-5b87-47f2-99be-2985e481dd64",
   "metadata": {},
   "outputs": [
    {
     "data": {
      "text/plain": [
       "array([1, 2, 3, 4, 5, 6, 7, 8, 0])"
      ]
     },
     "execution_count": 69,
     "metadata": {},
     "output_type": "execute_result"
    }
   ],
   "source": [
    "ar.ravel()"
   ]
  },
  {
   "cell_type": "code",
   "execution_count": 72,
   "id": "32e05b15-8145-40c1-85a9-246c682f81bc",
   "metadata": {},
   "outputs": [
    {
     "data": {
      "text/plain": [
       "<numpy.flatiter at 0x1a95cc09660>"
      ]
     },
     "execution_count": 72,
     "metadata": {},
     "output_type": "execute_result"
    }
   ],
   "source": [
    "ar.flat"
   ]
  },
  {
   "cell_type": "code",
   "execution_count": 74,
   "id": "858829a7-df54-4ba6-b2d1-8affac091334",
   "metadata": {},
   "outputs": [
    {
     "data": {
      "text/plain": [
       "array([ 10,  20,  30,  40,  50,  60,  70,  80, 100, 110, 120, 140])"
      ]
     },
     "execution_count": 74,
     "metadata": {},
     "output_type": "execute_result"
    }
   ],
   "source": [
    "x.ravel()"
   ]
  },
  {
   "cell_type": "code",
   "execution_count": 75,
   "id": "911858e1-e750-48b7-8be0-9a8b888eb49d",
   "metadata": {},
   "outputs": [
    {
     "name": "stdout",
     "output_type": "stream",
     "text": [
      "1\n",
      "2\n",
      "3\n",
      "4\n",
      "5\n",
      "6\n",
      "7\n",
      "8\n",
      "0\n"
     ]
    }
   ],
   "source": [
    "for items in ar.flat:\n",
    "    print(items)"
   ]
  },
  {
   "cell_type": "code",
   "execution_count": 76,
   "id": "e97a83ce-210a-4643-bb22-552534d95fd3",
   "metadata": {},
   "outputs": [
    {
     "data": {
      "text/plain": [
       "2"
      ]
     },
     "execution_count": 76,
     "metadata": {},
     "output_type": "execute_result"
    }
   ],
   "source": [
    "x.ndim"
   ]
  },
  {
   "cell_type": "code",
   "execution_count": 77,
   "id": "dd0a8059-2066-4184-bed0-7ae7c1704a41",
   "metadata": {},
   "outputs": [
    {
     "data": {
      "text/plain": [
       "36"
      ]
     },
     "execution_count": 77,
     "metadata": {},
     "output_type": "execute_result"
    }
   ],
   "source": [
    "ar.nbytes"
   ]
  },
  {
   "cell_type": "code",
   "execution_count": 78,
   "id": "cfccd0f9-33bc-4251-a779-e446e2182156",
   "metadata": {},
   "outputs": [
    {
     "data": {
      "text/plain": [
       "48"
      ]
     },
     "execution_count": 78,
     "metadata": {},
     "output_type": "execute_result"
    }
   ],
   "source": [
    "x.nbytes"
   ]
  },
  {
   "cell_type": "code",
   "execution_count": 79,
   "id": "85b67f9d-c930-4694-9a7c-b99153dd256d",
   "metadata": {},
   "outputs": [
    {
     "data": {
      "text/plain": [
       "8"
      ]
     },
     "execution_count": 79,
     "metadata": {},
     "output_type": "execute_result"
    }
   ],
   "source": [
    "one=np.array([1,2,3,4,5,6,78,98])\n",
    "one.size"
   ]
  },
  {
   "cell_type": "code",
   "execution_count": 80,
   "id": "238dc788-3296-4e00-9bc5-9f64be2516c7",
   "metadata": {},
   "outputs": [
    {
     "data": {
      "text/plain": [
       "[1, 2, 3, 4, 5, 6, 78, 98]"
      ]
     },
     "execution_count": 80,
     "metadata": {},
     "output_type": "execute_result"
    }
   ],
   "source": [
    "one1=[1,2,3,4,5,6,78,98]\n",
    "one1      "
   ]
  },
  {
   "cell_type": "markdown",
   "id": "269417fa-3648-4acc-8805-cabdbacced7e",
   "metadata": {},
   "source": [
    " * __The main difference between attributes and method is that attributes are data, while method are action.__\n",
    " * __This means that attributes store information, while method performs actions.__\n",
    " * __For Example: An attribute might store the name of the array, while method might be a function that calculates the sum of the elements of an array. To call an attributes, You can use the same dot notation and add parentheses, like this:__\n",
    " * __array.attributes*__\n",
    " * __array.method(argument1,arguments2)__"
   ]
  },
  {
   "cell_type": "code",
   "execution_count": 92,
   "id": "ef8c1821-1843-4b2e-86b7-64b3085f7bca",
   "metadata": {},
   "outputs": [
    {
     "data": {
      "text/plain": [
       "array([   1, 2000,    3,    4,    5,    6,  634,    0])"
      ]
     },
     "execution_count": 92,
     "metadata": {},
     "output_type": "execute_result"
    }
   ],
   "source": [
    "x1=np.array([1,2000,3,4,5,6,634,0])\n",
    "x1"
   ]
  },
  {
   "cell_type": "code",
   "execution_count": 93,
   "id": "f5b43009-8c8a-4511-8551-3acdde866269",
   "metadata": {},
   "outputs": [
    {
     "data": {
      "text/plain": [
       "1"
      ]
     },
     "execution_count": 93,
     "metadata": {},
     "output_type": "execute_result"
    }
   ],
   "source": [
    "x1.argmax()"
   ]
  },
  {
   "cell_type": "code",
   "execution_count": 94,
   "id": "d2517096-9f23-4941-b71c-6ba72579b5cb",
   "metadata": {},
   "outputs": [
    {
     "data": {
      "text/plain": [
       "7"
      ]
     },
     "execution_count": 94,
     "metadata": {},
     "output_type": "execute_result"
    }
   ],
   "source": [
    "x1.argmin()"
   ]
  },
  {
   "cell_type": "code",
   "execution_count": 95,
   "id": "b5eb0dfb-d2f7-4e44-a448-7ba5558709fe",
   "metadata": {},
   "outputs": [
    {
     "data": {
      "text/plain": [
       "array([7, 0, 2, 3, 4, 5, 6, 1], dtype=int64)"
      ]
     },
     "execution_count": 95,
     "metadata": {},
     "output_type": "execute_result"
    }
   ],
   "source": [
    "x1.argsort()"
   ]
  },
  {
   "cell_type": "code",
   "execution_count": 96,
   "id": "ea8feced-9f06-40d5-bfc1-8160a3848ae0",
   "metadata": {},
   "outputs": [],
   "source": [
    "x1.sort()"
   ]
  },
  {
   "cell_type": "code",
   "execution_count": 97,
   "id": "0d01a104-c97b-4f25-a9b8-7dc0f911cf2f",
   "metadata": {},
   "outputs": [
    {
     "data": {
      "text/plain": [
       "array([   0,    1,    3,    4,    5,    6,  634, 2000])"
      ]
     },
     "execution_count": 97,
     "metadata": {},
     "output_type": "execute_result"
    }
   ],
   "source": [
    "x1"
   ]
  },
  {
   "cell_type": "code",
   "execution_count": 101,
   "id": "41a0a4d8-20a0-4849-9aa8-2ef30d7e2c3d",
   "metadata": {},
   "outputs": [
    {
     "name": "stdout",
     "output_type": "stream",
     "text": [
      "2000\n"
     ]
    }
   ],
   "source": [
    "print(x1.max())"
   ]
  },
  {
   "cell_type": "code",
   "execution_count": 102,
   "id": "e9c6e084-9a5d-4227-a2df-a78f837377c6",
   "metadata": {},
   "outputs": [
    {
     "name": "stdout",
     "output_type": "stream",
     "text": [
      "0\n"
     ]
    }
   ],
   "source": [
    "print(x1.min())"
   ]
  },
  {
   "cell_type": "code",
   "execution_count": 15,
   "id": "cf64f022-c8a8-406a-a5eb-db5a9933cb57",
   "metadata": {},
   "outputs": [
    {
     "data": {
      "text/plain": [
       "array([[   10,    20, 14000],\n",
       "       [   40,    50,    60],\n",
       "       [   70,    80,   100],\n",
       "       [  110,   120,   140]])"
      ]
     },
     "execution_count": 15,
     "metadata": {},
     "output_type": "execute_result"
    }
   ],
   "source": [
    "ar=np.array([[10,20,14000],[40,50,60],[70,80,100],[110,120,140]])\n",
    "ar"
   ]
  },
  {
   "cell_type": "code",
   "execution_count": 107,
   "id": "7eabcddd-e617-4b8e-86a0-916c3921a160",
   "metadata": {},
   "outputs": [
    {
     "data": {
      "text/plain": [
       "array([3, 3, 0], dtype=int64)"
      ]
     },
     "execution_count": 107,
     "metadata": {},
     "output_type": "execute_result"
    }
   ],
   "source": [
    "ar.argmax(axis=0)"
   ]
  },
  {
   "cell_type": "code",
   "execution_count": 108,
   "id": "fc83f1de-22a5-4095-9627-6f6a0602cb4a",
   "metadata": {},
   "outputs": [
    {
     "data": {
      "text/plain": [
       "array([2, 2, 2, 2], dtype=int64)"
      ]
     },
     "execution_count": 108,
     "metadata": {},
     "output_type": "execute_result"
    }
   ],
   "source": [
    "ar.argmax(axis=1)"
   ]
  },
  {
   "cell_type": "code",
   "execution_count": 2,
   "id": "75208d4a-ff02-45c4-8321-f403a502258e",
   "metadata": {},
   "outputs": [
    {
     "data": {
      "text/plain": [
       "array([75, 72, 68, 65, 67, 73])"
      ]
     },
     "execution_count": 2,
     "metadata": {},
     "output_type": "execute_result"
    }
   ],
   "source": [
    "x=np.array([75,72,68,65,67,73])\n",
    "x"
   ]
  },
  {
   "cell_type": "code",
   "execution_count": 13,
   "id": "42b2b3c5-fcaa-4a35-b21e-fb850479cd7b",
   "metadata": {},
   "outputs": [
    {
     "data": {
      "text/plain": [
       "70.0"
      ]
     },
     "execution_count": 13,
     "metadata": {},
     "output_type": "execute_result"
    }
   ],
   "source": [
    "np.mean(x)"
   ]
  },
  {
   "cell_type": "code",
   "execution_count": 4,
   "id": "b9e7662e-b722-4ebe-8582-3daded3a1bd2",
   "metadata": {},
   "outputs": [
    {
     "data": {
      "text/plain": [
       "70.0"
      ]
     },
     "execution_count": 4,
     "metadata": {},
     "output_type": "execute_result"
    }
   ],
   "source": [
    "np.average(x)"
   ]
  },
  {
   "cell_type": "code",
   "execution_count": 12,
   "id": "c51a3564-15ea-43b5-ac8d-88350bf2d049",
   "metadata": {},
   "outputs": [
    {
     "data": {
      "text/plain": [
       "3.559026084010437"
      ]
     },
     "execution_count": 12,
     "metadata": {},
     "output_type": "execute_result"
    }
   ],
   "source": [
    "np.std(x)"
   ]
  },
  {
   "cell_type": "code",
   "execution_count": 16,
   "id": "31a3425e-3131-4362-b539-e642463f117b",
   "metadata": {},
   "outputs": [
    {
     "data": {
      "text/plain": [
       "array([[   10,    20, 14000],\n",
       "       [   40,    50,    60],\n",
       "       [   70,    80,   100],\n",
       "       [  110,   120,   140]])"
      ]
     },
     "execution_count": 16,
     "metadata": {},
     "output_type": "execute_result"
    }
   ],
   "source": [
    "ar"
   ]
  },
  {
   "cell_type": "code",
   "execution_count": 17,
   "id": "f11c4c93-9760-4e9b-88e6-d8bb2b06d96f",
   "metadata": {},
   "outputs": [
    {
     "data": {
      "text/plain": [
       "3849.4833708203264"
      ]
     },
     "execution_count": 17,
     "metadata": {},
     "output_type": "execute_result"
    }
   ],
   "source": [
    "np.std(ar)"
   ]
  },
  {
   "cell_type": "code",
   "execution_count": 18,
   "id": "962eb5c7-adc1-4acf-b78c-7137df6ad16e",
   "metadata": {},
   "outputs": [
    {
     "data": {
      "text/plain": [
       "array([[ 10,  20,  30],\n",
       "       [ 40,  50,  60],\n",
       "       [ 70,  80, 100],\n",
       "       [110, 120, 140]])"
      ]
     },
     "execution_count": 18,
     "metadata": {},
     "output_type": "execute_result"
    }
   ],
   "source": [
    "x"
   ]
  },
  {
   "cell_type": "code",
   "execution_count": 19,
   "id": "189b858f-52fa-4bf3-a5d6-6451e9d1fe35",
   "metadata": {},
   "outputs": [
    {
     "data": {
      "text/plain": [
       "39.8869931459144"
      ]
     },
     "execution_count": 19,
     "metadata": {},
     "output_type": "execute_result"
    }
   ],
   "source": [
    "np.std(x)"
   ]
  },
  {
   "cell_type": "markdown",
   "id": "951a25de-cea8-4c94-beea-34c1faae844b",
   "metadata": {},
   "source": [
    "# Slicing numpy array"
   ]
  },
  {
   "cell_type": "code",
   "execution_count": 4,
   "id": "9dbbb4ef-9499-443c-9dfb-134e0bafd24b",
   "metadata": {},
   "outputs": [
    {
     "data": {
      "text/plain": [
       "array([  1,   2,   3,   4,   5,   6,   7,   8,   9,  10,  11,  12,  13,\n",
       "        14,  15,  16,  17,  18,  19,  20,  21,  22,  23,  24,  25,  26,\n",
       "        27,  28,  29,  30,  31,  32,  33,  34,  35,  36,  37,  38,  39,\n",
       "        40,  41,  42,  43,  44,  45,  46,  47,  48,  49,  50,  51,  52,\n",
       "        53,  54,  55,  56,  57,  58,  59,  60,  61,  62,  63,  64,  65,\n",
       "        66,  67,  68,  69,  70,  71,  72,  73,  74,  75,  76,  77,  78,\n",
       "        79,  80,  81,  82,  83,  84,  85,  86,  87,  88,  89,  90,  91,\n",
       "        92,  93,  94,  95,  96,  97,  98,  99, 100])"
      ]
     },
     "execution_count": 4,
     "metadata": {},
     "output_type": "execute_result"
    }
   ],
   "source": [
    "mx=np.arange(1,101)\n",
    "mx"
   ]
  },
  {
   "cell_type": "code",
   "execution_count": 5,
   "id": "88b5dda3-8af8-45d8-81d9-3f4f925beaa3",
   "metadata": {},
   "outputs": [
    {
     "data": {
      "text/plain": [
       "array([[  1,   2,   3,   4,   5,   6,   7,   8,   9,  10],\n",
       "       [ 11,  12,  13,  14,  15,  16,  17,  18,  19,  20],\n",
       "       [ 21,  22,  23,  24,  25,  26,  27,  28,  29,  30],\n",
       "       [ 31,  32,  33,  34,  35,  36,  37,  38,  39,  40],\n",
       "       [ 41,  42,  43,  44,  45,  46,  47,  48,  49,  50],\n",
       "       [ 51,  52,  53,  54,  55,  56,  57,  58,  59,  60],\n",
       "       [ 61,  62,  63,  64,  65,  66,  67,  68,  69,  70],\n",
       "       [ 71,  72,  73,  74,  75,  76,  77,  78,  79,  80],\n",
       "       [ 81,  82,  83,  84,  85,  86,  87,  88,  89,  90],\n",
       "       [ 91,  92,  93,  94,  95,  96,  97,  98,  99, 100]])"
      ]
     },
     "execution_count": 5,
     "metadata": {},
     "output_type": "execute_result"
    }
   ],
   "source": [
    "mx=np.arange(1,101).reshape(10,10)\n",
    "mx"
   ]
  },
  {
   "cell_type": "code",
   "execution_count": 6,
   "id": "2a0ddd04-a839-42ef-836e-649045e808b5",
   "metadata": {},
   "outputs": [
    {
     "data": {
      "text/plain": [
       "array([[  1,   2,   3,   4,   5,   6,   7,   8,   9,  10,  11,  12,  13,\n",
       "         14,  15,  16,  17,  18,  19,  20],\n",
       "       [ 21,  22,  23,  24,  25,  26,  27,  28,  29,  30,  31,  32,  33,\n",
       "         34,  35,  36,  37,  38,  39,  40],\n",
       "       [ 41,  42,  43,  44,  45,  46,  47,  48,  49,  50,  51,  52,  53,\n",
       "         54,  55,  56,  57,  58,  59,  60],\n",
       "       [ 61,  62,  63,  64,  65,  66,  67,  68,  69,  70,  71,  72,  73,\n",
       "         74,  75,  76,  77,  78,  79,  80],\n",
       "       [ 81,  82,  83,  84,  85,  86,  87,  88,  89,  90,  91,  92,  93,\n",
       "         94,  95,  96,  97,  98,  99, 100]])"
      ]
     },
     "execution_count": 6,
     "metadata": {},
     "output_type": "execute_result"
    }
   ],
   "source": [
    "mx=np.arange(1,101).reshape(5,20)\n",
    "mx"
   ]
  },
  {
   "cell_type": "code",
   "execution_count": 7,
   "id": "6080f96e-82e9-494c-91fc-ee3f67d3064a",
   "metadata": {},
   "outputs": [
    {
     "data": {
      "text/plain": [
       "array([[  1,   2,   3,   4,   5,   6,   7,   8,   9,  10],\n",
       "       [ 11,  12,  13,  14,  15,  16,  17,  18,  19,  20],\n",
       "       [ 21,  22,  23,  24,  25,  26,  27,  28,  29,  30],\n",
       "       [ 31,  32,  33,  34,  35,  36,  37,  38,  39,  40],\n",
       "       [ 41,  42,  43,  44,  45,  46,  47,  48,  49,  50],\n",
       "       [ 51,  52,  53,  54,  55,  56,  57,  58,  59,  60],\n",
       "       [ 61,  62,  63,  64,  65,  66,  67,  68,  69,  70],\n",
       "       [ 71,  72,  73,  74,  75,  76,  77,  78,  79,  80],\n",
       "       [ 81,  82,  83,  84,  85,  86,  87,  88,  89,  90],\n",
       "       [ 91,  92,  93,  94,  95,  96,  97,  98,  99, 100]])"
      ]
     },
     "execution_count": 7,
     "metadata": {},
     "output_type": "execute_result"
    }
   ],
   "source": [
    "mx=np.arange(1,101).reshape(10,10)\n",
    "mx"
   ]
  },
  {
   "cell_type": "code",
   "execution_count": 16,
   "id": "7e42f8a6-bafd-487b-90b0-75dcf5ac202c",
   "metadata": {},
   "outputs": [
    {
     "data": {
      "text/plain": [
       "1"
      ]
     },
     "execution_count": 16,
     "metadata": {},
     "output_type": "execute_result"
    }
   ],
   "source": [
    "x=mx[0,0]\n",
    "x"
   ]
  },
  {
   "cell_type": "code",
   "execution_count": 17,
   "id": "5b4d1c5d-125a-476b-acb7-6b598787eeb2",
   "metadata": {},
   "outputs": [
    {
     "data": {
      "text/plain": [
       "0"
      ]
     },
     "execution_count": 17,
     "metadata": {},
     "output_type": "execute_result"
    }
   ],
   "source": [
    "x.ndim"
   ]
  },
  {
   "cell_type": "code",
   "execution_count": 22,
   "id": "af601d5a-4d1e-4a97-aa74-f0020e12f3a7",
   "metadata": {},
   "outputs": [
    {
     "data": {
      "text/plain": [
       "array([ 1,  2,  3,  4,  5,  6,  7,  8,  9, 10])"
      ]
     },
     "execution_count": 22,
     "metadata": {},
     "output_type": "execute_result"
    }
   ],
   "source": [
    "mx[0]"
   ]
  },
  {
   "cell_type": "code",
   "execution_count": 23,
   "id": "36e95218-874e-4178-883a-906cb660c7c0",
   "metadata": {},
   "outputs": [
    {
     "data": {
      "text/plain": [
       "array([11, 12, 13, 14, 15, 16, 17, 18, 19, 20])"
      ]
     },
     "execution_count": 23,
     "metadata": {},
     "output_type": "execute_result"
    }
   ],
   "source": [
    "mx[1]"
   ]
  },
  {
   "cell_type": "code",
   "execution_count": 24,
   "id": "b331d9b2-ce1e-4f39-a1d0-4cd232505b8f",
   "metadata": {},
   "outputs": [
    {
     "data": {
      "text/plain": [
       "array([31, 32, 33, 34, 35, 36, 37, 38, 39, 40])"
      ]
     },
     "execution_count": 24,
     "metadata": {},
     "output_type": "execute_result"
    }
   ],
   "source": [
    "mx[3]"
   ]
  },
  {
   "cell_type": "code",
   "execution_count": 38,
   "id": "b71225fc-453e-4d04-98a0-02d285ff5932",
   "metadata": {},
   "outputs": [
    {
     "data": {
      "text/plain": [
       "array([ 1, 11, 21, 31, 41, 51, 61, 71, 81, 91])"
      ]
     },
     "execution_count": 38,
     "metadata": {},
     "output_type": "execute_result"
    }
   ],
   "source": [
    "mx[:,0]"
   ]
  },
  {
   "cell_type": "code",
   "execution_count": 34,
   "id": "06c4e39e-6395-4029-bd7f-ad589834f9ca",
   "metadata": {},
   "outputs": [
    {
     "data": {
      "text/plain": [
       "array([[ 3,  4],\n",
       "       [13, 14],\n",
       "       [23, 24],\n",
       "       [33, 34],\n",
       "       [43, 44],\n",
       "       [53, 54],\n",
       "       [63, 64],\n",
       "       [73, 74],\n",
       "       [83, 84],\n",
       "       [93, 94]])"
      ]
     },
     "execution_count": 34,
     "metadata": {},
     "output_type": "execute_result"
    }
   ],
   "source": [
    "mx[:,2:4]"
   ]
  },
  {
   "cell_type": "code",
   "execution_count": 36,
   "id": "c03fbf56-52ee-426d-bbc9-8c9359d8189a",
   "metadata": {},
   "outputs": [
    {
     "data": {
      "text/plain": [
       "2"
      ]
     },
     "execution_count": 36,
     "metadata": {},
     "output_type": "execute_result"
    }
   ],
   "source": [
    "mx[:,0:1].ndim"
   ]
  },
  {
   "cell_type": "code",
   "execution_count": 39,
   "id": "222e5c6c-ec86-4bd1-ad25-b5a950522286",
   "metadata": {},
   "outputs": [
    {
     "data": {
      "text/plain": [
       "array([[  1,   2,   3,   4,   5,   6,   7,   8,   9,  10],\n",
       "       [ 11,  12,  13,  14,  15,  16,  17,  18,  19,  20],\n",
       "       [ 21,  22,  23,  24,  25,  26,  27,  28,  29,  30],\n",
       "       [ 31,  32,  33,  34,  35,  36,  37,  38,  39,  40],\n",
       "       [ 41,  42,  43,  44,  45,  46,  47,  48,  49,  50],\n",
       "       [ 51,  52,  53,  54,  55,  56,  57,  58,  59,  60],\n",
       "       [ 61,  62,  63,  64,  65,  66,  67,  68,  69,  70],\n",
       "       [ 71,  72,  73,  74,  75,  76,  77,  78,  79,  80],\n",
       "       [ 81,  82,  83,  84,  85,  86,  87,  88,  89,  90],\n",
       "       [ 91,  92,  93,  94,  95,  96,  97,  98,  99, 100]])"
      ]
     },
     "execution_count": 39,
     "metadata": {},
     "output_type": "execute_result"
    }
   ],
   "source": [
    "mx[:]"
   ]
  },
  {
   "cell_type": "markdown",
   "id": "3791f9c1-d1ec-4593-b4f7-10dbc37b055e",
   "metadata": {},
   "source": [
    "# Concatenation of an array"
   ]
  },
  {
   "cell_type": "code",
   "execution_count": 3,
   "id": "ef86c410-6a29-469a-914c-2bc3a34fcf17",
   "metadata": {},
   "outputs": [
    {
     "data": {
      "text/plain": [
       "array([[ 1,  2,  3,  4],\n",
       "       [ 5,  6,  7,  8],\n",
       "       [ 9, 10, 11, 12],\n",
       "       [13, 14, 15, 16]])"
      ]
     },
     "execution_count": 3,
     "metadata": {},
     "output_type": "execute_result"
    }
   ],
   "source": [
    "arr1=np.arange(1,17).reshape(4,4)\n",
    "arr1"
   ]
  },
  {
   "cell_type": "code",
   "execution_count": 4,
   "id": "c4b5774f-d06e-4f9c-8c68-1a76ded665fd",
   "metadata": {},
   "outputs": [
    {
     "data": {
      "text/plain": [
       "array([[17, 18, 19, 20],\n",
       "       [21, 22, 23, 24],\n",
       "       [25, 26, 27, 28],\n",
       "       [29, 30, 31, 32]])"
      ]
     },
     "execution_count": 4,
     "metadata": {},
     "output_type": "execute_result"
    }
   ],
   "source": [
    "arr2=np.arange(17,33).reshape(4,4)\n",
    "arr2"
   ]
  },
  {
   "cell_type": "code",
   "execution_count": 5,
   "id": "4b47bc08-2f96-467f-96c4-18232f712dfb",
   "metadata": {},
   "outputs": [],
   "source": [
    "# creating a list\n",
    "\n",
    "list1=[2,4,6,7]\n",
    "list2=[1,8,3,5]"
   ]
  },
  {
   "cell_type": "code",
   "execution_count": 6,
   "id": "377af65a-48b6-431d-ac7b-edef81af8260",
   "metadata": {},
   "outputs": [
    {
     "data": {
      "text/plain": [
       "[2, 4, 6, 7, 1, 8, 3, 5]"
      ]
     },
     "execution_count": 6,
     "metadata": {},
     "output_type": "execute_result"
    }
   ],
   "source": [
    "list1+list2"
   ]
  },
  {
   "cell_type": "code",
   "execution_count": 7,
   "id": "556f7fca-5866-496d-ac02-03319c792626",
   "metadata": {},
   "outputs": [
    {
     "data": {
      "text/plain": [
       "array([[18, 20, 22, 24],\n",
       "       [26, 28, 30, 32],\n",
       "       [34, 36, 38, 40],\n",
       "       [42, 44, 46, 48]])"
      ]
     },
     "execution_count": 7,
     "metadata": {},
     "output_type": "execute_result"
    }
   ],
   "source": [
    "arr1+arr2"
   ]
  },
  {
   "cell_type": "code",
   "execution_count": 11,
   "id": "1941a61b-e7cf-47e2-a02d-cfee41ac003b",
   "metadata": {},
   "outputs": [
    {
     "data": {
      "text/plain": [
       "array([[ 1,  2,  3,  4],\n",
       "       [ 5,  6,  7,  8],\n",
       "       [ 9, 10, 11, 12],\n",
       "       [13, 14, 15, 16],\n",
       "       [17, 18, 19, 20],\n",
       "       [21, 22, 23, 24],\n",
       "       [25, 26, 27, 28],\n",
       "       [29, 30, 31, 32]])"
      ]
     },
     "execution_count": 11,
     "metadata": {},
     "output_type": "execute_result"
    }
   ],
   "source": [
    "# concatenate() function\n",
    "x=np.concatenate((arr1,arr2))\n",
    "x"
   ]
  },
  {
   "cell_type": "code",
   "execution_count": 9,
   "id": "8599c367-7d9e-4925-ae1e-886b49ad5922",
   "metadata": {},
   "outputs": [
    {
     "data": {
      "text/plain": [
       "array([[ 1,  2,  3,  4, 17, 18, 19, 20],\n",
       "       [ 5,  6,  7,  8, 21, 22, 23, 24],\n",
       "       [ 9, 10, 11, 12, 25, 26, 27, 28],\n",
       "       [13, 14, 15, 16, 29, 30, 31, 32]])"
      ]
     },
     "execution_count": 9,
     "metadata": {},
     "output_type": "execute_result"
    }
   ],
   "source": [
    "# concatenate() function\n",
    "x=np.concatenate((arr1,arr2),axis=1)\n",
    "x"
   ]
  },
  {
   "cell_type": "code",
   "execution_count": 12,
   "id": "55a5d3a1-9df2-4e99-b804-9838c3da914a",
   "metadata": {},
   "outputs": [
    {
     "data": {
      "text/plain": [
       "array([[ 1,  2,  3,  4],\n",
       "       [ 5,  6,  7,  8],\n",
       "       [ 9, 10, 11, 12],\n",
       "       [13, 14, 15, 16]])"
      ]
     },
     "execution_count": 12,
     "metadata": {},
     "output_type": "execute_result"
    }
   ],
   "source": [
    "# horizontal concatenate\n",
    "\n",
    "arr1"
   ]
  },
  {
   "cell_type": "code",
   "execution_count": 13,
   "id": "70bf90fd-088a-4335-8a71-9b0b12a889aa",
   "metadata": {},
   "outputs": [
    {
     "data": {
      "text/plain": [
       "array([[17, 18, 19, 20],\n",
       "       [21, 22, 23, 24],\n",
       "       [25, 26, 27, 28],\n",
       "       [29, 30, 31, 32]])"
      ]
     },
     "execution_count": 13,
     "metadata": {},
     "output_type": "execute_result"
    }
   ],
   "source": [
    "arr2"
   ]
  },
  {
   "cell_type": "code",
   "execution_count": 15,
   "id": "b2bde3cf-309e-42cb-bb4b-75ef389937a9",
   "metadata": {},
   "outputs": [
    {
     "data": {
      "text/plain": [
       "array([[ 1,  2,  3,  4],\n",
       "       [ 5,  6,  7,  8],\n",
       "       [ 9, 10, 11, 12],\n",
       "       [13, 14, 15, 16],\n",
       "       [17, 18, 19, 20],\n",
       "       [21, 22, 23, 24],\n",
       "       [25, 26, 27, 28],\n",
       "       [29, 30, 31, 32]])"
      ]
     },
     "execution_count": 15,
     "metadata": {},
     "output_type": "execute_result"
    }
   ],
   "source": [
    "np.vstack((arr1,arr2))"
   ]
  },
  {
   "cell_type": "code",
   "execution_count": 17,
   "id": "602738cd-e3f9-47c0-8ffc-8be01c5f15bb",
   "metadata": {},
   "outputs": [
    {
     "data": {
      "text/plain": [
       "array([[ 1,  2,  3,  4, 17, 18, 19, 20],\n",
       "       [ 5,  6,  7,  8, 21, 22, 23, 24],\n",
       "       [ 9, 10, 11, 12, 25, 26, 27, 28],\n",
       "       [13, 14, 15, 16, 29, 30, 31, 32]])"
      ]
     },
     "execution_count": 17,
     "metadata": {},
     "output_type": "execute_result"
    }
   ],
   "source": [
    "x1=np.hstack((arr1,arr2))\n",
    "x1"
   ]
  },
  {
   "cell_type": "code",
   "execution_count": 18,
   "id": "1836a77f-7a4b-41f3-aac1-59afafccb085",
   "metadata": {},
   "outputs": [
    {
     "data": {
      "text/plain": [
       "array([[ 1,  2,  3,  4, 17, 18, 19, 20],\n",
       "       [ 5,  6,  7,  8, 21, 22, 23, 24],\n",
       "       [ 9, 10, 11, 12, 25, 26, 27, 28],\n",
       "       [13, 14, 15, 16, 29, 30, 31, 32]])"
      ]
     },
     "execution_count": 18,
     "metadata": {},
     "output_type": "execute_result"
    }
   ],
   "source": [
    "x1"
   ]
  },
  {
   "cell_type": "code",
   "execution_count": 22,
   "id": "7985f774-ecc9-4191-923c-3b8881c2d5ed",
   "metadata": {},
   "outputs": [
    {
     "data": {
      "text/plain": [
       "array([[ 1,  2,  3,  4, 17, 18, 19, 20,  1,  2,  3,  4, 17, 18, 19, 20],\n",
       "       [ 5,  6,  7,  8, 21, 22, 23, 24,  5,  6,  7,  8, 21, 22, 23, 24],\n",
       "       [ 9, 10, 11, 12, 25, 26, 27, 28,  9, 10, 11, 12, 25, 26, 27, 28],\n",
       "       [13, 14, 15, 16, 29, 30, 31, 32, 13, 14, 15, 16, 29, 30, 31, 32]])"
      ]
     },
     "execution_count": 22,
     "metadata": {},
     "output_type": "execute_result"
    }
   ],
   "source": [
    "x2= np.hstack((arr1,arr2,x1))\n",
    "x2"
   ]
  },
  {
   "cell_type": "code",
   "execution_count": 30,
   "id": "b52b2f04-c576-489c-9ea0-a13014bff7bb",
   "metadata": {},
   "outputs": [
    {
     "data": {
      "text/plain": [
       "array([[ 1,  2,  3,  4],\n",
       "       [ 5,  6,  7,  8],\n",
       "       [ 9, 10, 11, 12],\n",
       "       [13, 14, 15, 16]])"
      ]
     },
     "execution_count": 30,
     "metadata": {},
     "output_type": "execute_result"
    }
   ],
   "source": [
    "x=arr1\n",
    "x"
   ]
  },
  {
   "cell_type": "code",
   "execution_count": 31,
   "id": "495acd46-db58-4d6d-87d3-c16def274dfe",
   "metadata": {},
   "outputs": [
    {
     "data": {
      "text/plain": [
       "numpy.ndarray"
      ]
     },
     "execution_count": 31,
     "metadata": {},
     "output_type": "execute_result"
    }
   ],
   "source": [
    "type(x)"
   ]
  },
  {
   "cell_type": "markdown",
   "id": "8abb6641-a812-48bc-b617-810e79c71bbe",
   "metadata": {},
   "source": [
    "# split"
   ]
  },
  {
   "cell_type": "code",
   "execution_count": 28,
   "id": "05725ad2-d95a-4443-80f7-dc2418a47f6f",
   "metadata": {},
   "outputs": [
    {
     "data": {
      "text/plain": [
       "[array([[1, 2, 3, 4],\n",
       "        [5, 6, 7, 8]]),\n",
       " array([[ 9, 10, 11, 12],\n",
       "        [13, 14, 15, 16]])]"
      ]
     },
     "execution_count": 28,
     "metadata": {},
     "output_type": "execute_result"
    }
   ],
   "source": [
    "x3=np.split(arr1,2)\n",
    "x3"
   ]
  },
  {
   "cell_type": "code",
   "execution_count": 29,
   "id": "f78955a2-44d1-4c4d-aa9d-f7364c0a43cf",
   "metadata": {},
   "outputs": [
    {
     "data": {
      "text/plain": [
       "list"
      ]
     },
     "execution_count": 29,
     "metadata": {},
     "output_type": "execute_result"
    }
   ],
   "source": [
    "type(x3)"
   ]
  },
  {
   "cell_type": "code",
   "execution_count": 32,
   "id": "9df42781-262c-4691-95ac-b6f34004d623",
   "metadata": {},
   "outputs": [
    {
     "data": {
      "text/plain": [
       "array([[1, 2, 3, 4],\n",
       "       [5, 6, 7, 8]])"
      ]
     },
     "execution_count": 32,
     "metadata": {},
     "output_type": "execute_result"
    }
   ],
   "source": [
    "x3[0]"
   ]
  },
  {
   "cell_type": "code",
   "execution_count": 33,
   "id": "91c24f3b-9fe1-461d-a92c-ad86568f4a45",
   "metadata": {},
   "outputs": [
    {
     "data": {
      "text/plain": [
       "array([[ 9, 10, 11, 12],\n",
       "       [13, 14, 15, 16]])"
      ]
     },
     "execution_count": 33,
     "metadata": {},
     "output_type": "execute_result"
    }
   ],
   "source": [
    "x3[1]"
   ]
  },
  {
   "cell_type": "code",
   "execution_count": 34,
   "id": "0e3467d9-61c3-4f5d-95d8-6e11d83508c7",
   "metadata": {},
   "outputs": [
    {
     "data": {
      "text/plain": [
       "numpy.ndarray"
      ]
     },
     "execution_count": 34,
     "metadata": {},
     "output_type": "execute_result"
    }
   ],
   "source": [
    "type(x3[0])"
   ]
  },
  {
   "cell_type": "code",
   "execution_count": 35,
   "id": "d55158fb-573c-4d58-91af-aa738def00a0",
   "metadata": {},
   "outputs": [
    {
     "data": {
      "text/plain": [
       "numpy.ndarray"
      ]
     },
     "execution_count": 35,
     "metadata": {},
     "output_type": "execute_result"
    }
   ],
   "source": [
    "type(x3[1])"
   ]
  },
  {
   "cell_type": "code",
   "execution_count": 37,
   "id": "fc631780-55b4-4d76-bc64-3ba2b9df3ac8",
   "metadata": {},
   "outputs": [
    {
     "data": {
      "text/plain": [
       "[array([[ 1,  2],\n",
       "        [ 5,  6],\n",
       "        [ 9, 10],\n",
       "        [13, 14]]),\n",
       " array([[ 3,  4],\n",
       "        [ 7,  8],\n",
       "        [11, 12],\n",
       "        [15, 16]])]"
      ]
     },
     "execution_count": 37,
     "metadata": {},
     "output_type": "execute_result"
    }
   ],
   "source": [
    "s4=np.split(arr1,2,axis=1)\n",
    "s4"
   ]
  },
  {
   "cell_type": "code",
   "execution_count": 38,
   "id": "de425eb4-c5ce-46b2-acbf-e402dfffaf60",
   "metadata": {},
   "outputs": [
    {
     "data": {
      "text/plain": [
       "array([[ 3,  4],\n",
       "       [ 7,  8],\n",
       "       [11, 12],\n",
       "       [15, 16]])"
      ]
     },
     "execution_count": 38,
     "metadata": {},
     "output_type": "execute_result"
    }
   ],
   "source": [
    "s4[1]"
   ]
  },
  {
   "cell_type": "code",
   "execution_count": 52,
   "id": "6c62de5f-107c-4a35-b48c-86fc4e93818a",
   "metadata": {},
   "outputs": [
    {
     "data": {
      "text/plain": [
       "[array([[ 1,  2],\n",
       "        [ 5,  6],\n",
       "        [ 9, 10],\n",
       "        [13, 14]]),\n",
       " array([[20,  4],\n",
       "        [ 7,  8],\n",
       "        [11, 12],\n",
       "        [15, 16]])]"
      ]
     },
     "execution_count": 52,
     "metadata": {},
     "output_type": "execute_result"
    }
   ],
   "source": [
    "s4[1][0,0]=20\n",
    "s4"
   ]
  },
  {
   "cell_type": "code",
   "execution_count": 46,
   "id": "db994a05-4d28-4c33-8de2-ed9918f593d7",
   "metadata": {},
   "outputs": [
    {
     "data": {
      "text/plain": [
       "array([[ 1,  2,  3,  4],\n",
       "       [ 5,  6,  7,  8],\n",
       "       [ 9, 10, 11, 12],\n",
       "       [13, 14, 15, 16]])"
      ]
     },
     "execution_count": 46,
     "metadata": {},
     "output_type": "execute_result"
    }
   ],
   "source": [
    "arr1"
   ]
  },
  {
   "cell_type": "code",
   "execution_count": 50,
   "id": "4cd9f478-8ac6-48c5-9f19-3a231841bc0e",
   "metadata": {},
   "outputs": [
    {
     "data": {
      "text/plain": [
       "1"
      ]
     },
     "execution_count": 50,
     "metadata": {},
     "output_type": "execute_result"
    }
   ],
   "source": [
    "arr1[0,0]"
   ]
  },
  {
   "cell_type": "code",
   "execution_count": 57,
   "id": "68447a4b-d2b1-48ca-a4c0-694eb0dd3d0a",
   "metadata": {},
   "outputs": [
    {
     "data": {
      "text/plain": [
       "[array([[  1,   2],\n",
       "        [  5,   6],\n",
       "        [  9,  10],\n",
       "        [ 13, 100]]),\n",
       " array([[20,  4],\n",
       "        [ 7,  8],\n",
       "        [11, 12],\n",
       "        [15, 16]])]"
      ]
     },
     "execution_count": 57,
     "metadata": {},
     "output_type": "execute_result"
    }
   ],
   "source": [
    "s4[0][3,1]=100\n",
    "s4"
   ]
  },
  {
   "cell_type": "code",
   "execution_count": null,
   "id": "70055987-b9f6-4880-9d8c-25f901b59356",
   "metadata": {},
   "outputs": [],
   "source": []
  }
 ],
 "metadata": {
  "kernelspec": {
   "display_name": "Python 3 (ipykernel)",
   "language": "python",
   "name": "python3"
  },
  "language_info": {
   "codemirror_mode": {
    "name": "ipython",
    "version": 3
   },
   "file_extension": ".py",
   "mimetype": "text/x-python",
   "name": "python",
   "nbconvert_exporter": "python",
   "pygments_lexer": "ipython3",
   "version": "3.11.4"
  }
 },
 "nbformat": 4,
 "nbformat_minor": 5
}
