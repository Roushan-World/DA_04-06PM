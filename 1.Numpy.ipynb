{
 "cells": [
  {
   "cell_type": "markdown",
   "id": "074bf0ef-0d68-4f9d-bfad-68c1692efe69",
   "metadata": {},
   "source": [
    "# 1. Numpy\n",
    "\n",
    " * __Numpy provides efficient storage.__\n",
    " * __Numpy provides better ways of handling data for processing.__\n",
    " * __It is fast.__\n",
    " * __it is easy to learn.__\n",
    " * __Numpy user relatively less memory to store data.__"
   ]
  },
  {
   "cell_type": "markdown",
   "id": "23855133-d75b-4c77-9fca-0ec19e59e6f3",
   "metadata": {},
   "source": [
    "# Jupyter\n",
    "\n",
    " * __The Jupyter Notebook is an open source web application that allows you to create line code, equations, visualizations and narrative text.__\n",
    " * __The Notebook has support for over 40 Programming languages, including Python, R, Jullia and Scala.__\n",
    " * __Notebooks can be shared with other using email,Dropbox,GitHub and the Jupyter Notebook viewers.__\n",
    " * __Your Code can produce rich, interactive output HTML, images, vides, LaTeX, and Many custom types.__"
   ]
  },
  {
   "cell_type": "code",
   "execution_count": 2,
   "id": "a4f1824f-53c2-4f0a-a892-8c65638d8cff",
   "metadata": {},
   "outputs": [],
   "source": [
    "import numpy as np"
   ]
  },
  {
   "cell_type": "code",
   "execution_count": 2,
   "id": "ae1a10df-3b75-4b1d-866e-15f0e6ba5697",
   "metadata": {},
   "outputs": [
    {
     "data": {
      "text/plain": [
       "[2, 3, 32, 7]"
      ]
     },
     "execution_count": 2,
     "metadata": {},
     "output_type": "execute_result"
    }
   ],
   "source": [
    "list=[2,3,32,7]\n",
    "list"
   ]
  },
  {
   "cell_type": "code",
   "execution_count": 3,
   "id": "e45d7e29-0f93-49ad-9e43-3829f58142bf",
   "metadata": {},
   "outputs": [
    {
     "data": {
      "text/plain": [
       "list"
      ]
     },
     "execution_count": 3,
     "metadata": {},
     "output_type": "execute_result"
    }
   ],
   "source": [
    "type(list)"
   ]
  },
  {
   "cell_type": "code",
   "execution_count": 4,
   "id": "fbf6b1e0-7a72-4e0f-a822-573fbe8828a8",
   "metadata": {},
   "outputs": [
    {
     "data": {
      "text/plain": [
       "array([ 2,  3, 32,  7])"
      ]
     },
     "execution_count": 4,
     "metadata": {},
     "output_type": "execute_result"
    }
   ],
   "source": [
    "myarray=np.array(list)\n",
    "myarray"
   ]
  },
  {
   "cell_type": "code",
   "execution_count": 11,
   "id": "e5d7760d-fb16-4207-b0d0-b0fbcf209bd1",
   "metadata": {},
   "outputs": [
    {
     "data": {
      "text/plain": [
       "array([ 2,  3, 32,  7], dtype=int8)"
      ]
     },
     "execution_count": 11,
     "metadata": {},
     "output_type": "execute_result"
    }
   ],
   "source": [
    "myarray=np.array([2,3,32,7],np.int8)\n",
    "myarray"
   ]
  },
  {
   "cell_type": "code",
   "execution_count": 9,
   "id": "1655ed4e-83c0-4c50-8dec-aa1134b2e9c4",
   "metadata": {},
   "outputs": [
    {
     "data": {
      "text/plain": [
       "array([ 3,  6, 37,  8], dtype=int64)"
      ]
     },
     "execution_count": 9,
     "metadata": {},
     "output_type": "execute_result"
    }
   ],
   "source": [
    "# 1-D array\n",
    "\n",
    "myarr=np.array([3,6,37,8],np.int64)\n",
    "myarr"
   ]
  },
  {
   "cell_type": "code",
   "execution_count": 13,
   "id": "a58880c1-819d-4787-b6d1-6693c6090f70",
   "metadata": {},
   "outputs": [
    {
     "data": {
      "text/plain": [
       "array([[ 3,  6,  9, 12]], dtype=int64)"
      ]
     },
     "execution_count": 13,
     "metadata": {},
     "output_type": "execute_result"
    }
   ],
   "source": [
    "# 2-D array\n",
    "myarr=np.array([[3,6,9,12]],np.int64)\n",
    "myarr"
   ]
  },
  {
   "cell_type": "code",
   "execution_count": 14,
   "id": "a21a4693-3156-4eaf-a846-09c4f8ad021e",
   "metadata": {},
   "outputs": [
    {
     "data": {
      "text/plain": [
       "array([[ 3,  6,  9, 12]], dtype=int64)"
      ]
     },
     "execution_count": 14,
     "metadata": {},
     "output_type": "execute_result"
    }
   ],
   "source": [
    "myarr"
   ]
  },
  {
   "cell_type": "code",
   "execution_count": 19,
   "id": "2c70c934-f241-4b11-97fc-8c910f7fb09e",
   "metadata": {},
   "outputs": [
    {
     "name": "stdout",
     "output_type": "stream",
     "text": [
      "3\n",
      "6\n",
      "9\n",
      "12\n"
     ]
    },
    {
     "ename": "IndexError",
     "evalue": "index 4 is out of bounds for axis 1 with size 4",
     "output_type": "error",
     "traceback": [
      "\u001b[1;31m---------------------------------------------------------------------------\u001b[0m",
      "\u001b[1;31mIndexError\u001b[0m                                Traceback (most recent call last)",
      "Cell \u001b[1;32mIn[19], line 7\u001b[0m\n\u001b[0;32m      5\u001b[0m \u001b[38;5;28mprint\u001b[39m(myarr[\u001b[38;5;241m0\u001b[39m,\u001b[38;5;241m2\u001b[39m])\n\u001b[0;32m      6\u001b[0m \u001b[38;5;28mprint\u001b[39m(myarr[\u001b[38;5;241m0\u001b[39m,\u001b[38;5;241m3\u001b[39m])\n\u001b[1;32m----> 7\u001b[0m \u001b[38;5;28mprint\u001b[39m(\u001b[43mmyarr\u001b[49m\u001b[43m[\u001b[49m\u001b[38;5;241;43m0\u001b[39;49m\u001b[43m,\u001b[49m\u001b[38;5;241;43m4\u001b[39;49m\u001b[43m]\u001b[49m)\n",
      "\u001b[1;31mIndexError\u001b[0m: index 4 is out of bounds for axis 1 with size 4"
     ]
    }
   ],
   "source": [
    "# finding value with index number\n",
    "\n",
    "print(myarr[0,0])\n",
    "print(myarr[0,1])\n",
    "print(myarr[0,2])\n",
    "print(myarr[0,3])\n",
    "print(myarr[0,4])"
   ]
  },
  {
   "cell_type": "code",
   "execution_count": 20,
   "id": "a1f1db83-2b97-4b69-a195-cfdce436ef51",
   "metadata": {},
   "outputs": [
    {
     "ename": "IndexError",
     "evalue": "index 1 is out of bounds for axis 0 with size 1",
     "output_type": "error",
     "traceback": [
      "\u001b[1;31m---------------------------------------------------------------------------\u001b[0m",
      "\u001b[1;31mIndexError\u001b[0m                                Traceback (most recent call last)",
      "Cell \u001b[1;32mIn[20], line 1\u001b[0m\n\u001b[1;32m----> 1\u001b[0m \u001b[38;5;28mprint\u001b[39m(\u001b[43mmyarr\u001b[49m\u001b[43m[\u001b[49m\u001b[38;5;241;43m1\u001b[39;49m\u001b[43m,\u001b[49m\u001b[38;5;241;43m3\u001b[39;49m\u001b[43m]\u001b[49m)\n",
      "\u001b[1;31mIndexError\u001b[0m: index 1 is out of bounds for axis 0 with size 1"
     ]
    }
   ],
   "source": [
    "print(myarr[1,3])"
   ]
  },
  {
   "cell_type": "code",
   "execution_count": 21,
   "id": "fc1a8bf3-56e9-4f8f-987a-a92fcbcf6e0a",
   "metadata": {},
   "outputs": [
    {
     "data": {
      "text/plain": [
       "(1, 4)"
      ]
     },
     "execution_count": 21,
     "metadata": {},
     "output_type": "execute_result"
    }
   ],
   "source": [
    "# show the details of array\n",
    "\n",
    "myarr.shape"
   ]
  },
  {
   "cell_type": "code",
   "execution_count": 22,
   "id": "73c41f8e-55a5-4b52-8874-1ec08f9f82ee",
   "metadata": {},
   "outputs": [
    {
     "data": {
      "text/plain": [
       "dtype('int8')"
      ]
     },
     "execution_count": 22,
     "metadata": {},
     "output_type": "execute_result"
    }
   ],
   "source": [
    "myarray.dtype"
   ]
  },
  {
   "cell_type": "code",
   "execution_count": 23,
   "id": "060fc7ff-da89-49a0-9972-d73c3c747bac",
   "metadata": {},
   "outputs": [
    {
     "data": {
      "text/plain": [
       "array([[ 3,  6,  9, 12]], dtype=int64)"
      ]
     },
     "execution_count": 23,
     "metadata": {},
     "output_type": "execute_result"
    }
   ],
   "source": [
    "myarr"
   ]
  },
  {
   "cell_type": "code",
   "execution_count": 31,
   "id": "bedc65ea-7f44-4ef7-8331-fa0d650378e4",
   "metadata": {},
   "outputs": [
    {
     "data": {
      "text/plain": [
       "array([[45,  6,  9, 12]], dtype=int64)"
      ]
     },
     "execution_count": 31,
     "metadata": {},
     "output_type": "execute_result"
    }
   ],
   "source": [
    "# how to change element in the numpy array\n",
    "\n",
    "myarr[0,0]=45  #90,50,55\n",
    "myarr"
   ]
  },
  {
   "cell_type": "code",
   "execution_count": null,
   "id": "936e6676-55a2-4814-84dc-d782845999b4",
   "metadata": {},
   "outputs": [],
   "source": []
  }
 ],
 "metadata": {
  "kernelspec": {
   "display_name": "Python 3 (ipykernel)",
   "language": "python",
   "name": "python3"
  },
  "language_info": {
   "codemirror_mode": {
    "name": "ipython",
    "version": 3
   },
   "file_extension": ".py",
   "mimetype": "text/x-python",
   "name": "python",
   "nbconvert_exporter": "python",
   "pygments_lexer": "ipython3",
   "version": "3.11.4"
  }
 },
 "nbformat": 4,
 "nbformat_minor": 5
}
