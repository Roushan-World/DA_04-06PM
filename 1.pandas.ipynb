{
 "cells": [
  {
   "cell_type": "code",
   "execution_count": 1,
   "id": "d90bc1b8-894f-4433-86d7-1d7c7be67e59",
   "metadata": {},
   "outputs": [],
   "source": [
    "import pandas as pd"
   ]
  },
  {
   "cell_type": "code",
   "execution_count": 2,
   "id": "34d3a38e-f9e8-4c29-94a0-4dc8a964acee",
   "metadata": {},
   "outputs": [
    {
     "data": {
      "text/plain": [
       "'2.1.1'"
      ]
     },
     "execution_count": 2,
     "metadata": {},
     "output_type": "execute_result"
    }
   ],
   "source": [
    "pd.__version__"
   ]
  },
  {
   "cell_type": "code",
   "execution_count": 3,
   "id": "2df87d71-30ef-4aea-a8e3-54aeb3d30fe9",
   "metadata": {},
   "outputs": [],
   "source": [
    "import pandas as x"
   ]
  },
  {
   "cell_type": "code",
   "execution_count": 4,
   "id": "3977ea74-72f4-4e84-8d17-6abe64c0d2e2",
   "metadata": {},
   "outputs": [
    {
     "data": {
      "text/plain": [
       "'2.1.1'"
      ]
     },
     "execution_count": 4,
     "metadata": {},
     "output_type": "execute_result"
    }
   ],
   "source": [
    "x.__version__"
   ]
  },
  {
   "cell_type": "code",
   "execution_count": 5,
   "id": "bce9ca1f-f3eb-42ef-be91-91bc9889090e",
   "metadata": {},
   "outputs": [
    {
     "name": "stdout",
     "output_type": "stream",
     "text": [
      "[1, 2, -3, 6.2, 'data values']\n"
     ]
    }
   ],
   "source": [
    "# Creating a series\n",
    "\n",
    "list_s=[1,2,-3,6.2,'data values']\n",
    "print(list_s)"
   ]
  },
  {
   "cell_type": "code",
   "execution_count": 6,
   "id": "2ea6e6a5-76ba-4f8d-806c-29fae644884d",
   "metadata": {},
   "outputs": [
    {
     "data": {
      "text/plain": [
       "0              1\n",
       "1              2\n",
       "2             -3\n",
       "3            6.2\n",
       "4    data values\n",
       "dtype: object"
      ]
     },
     "execution_count": 6,
     "metadata": {},
     "output_type": "execute_result"
    }
   ],
   "source": [
    "series=pd.Series(list_s)\n",
    "series"
   ]
  },
  {
   "cell_type": "code",
   "execution_count": 7,
   "id": "a8ed144d-3c98-49c7-b01c-91c04026b11c",
   "metadata": {},
   "outputs": [
    {
     "data": {
      "text/plain": [
       "pandas.core.series.Series"
      ]
     },
     "execution_count": 7,
     "metadata": {},
     "output_type": "execute_result"
    }
   ],
   "source": [
    "type(series)"
   ]
  },
  {
   "cell_type": "code",
   "execution_count": 8,
   "id": "0f05fea5-9382-444b-b74e-95239936892f",
   "metadata": {},
   "outputs": [
    {
     "data": {
      "text/plain": [
       "0    1\n",
       "1    2\n",
       "2    3\n",
       "3    4\n",
       "dtype: int64"
      ]
     },
     "execution_count": 8,
     "metadata": {},
     "output_type": "execute_result"
    }
   ],
   "source": [
    "# Creating new series\n",
    "\n",
    "series2=pd.Series([1,2,3,4])\n",
    "series2"
   ]
  },
  {
   "cell_type": "code",
   "execution_count": 9,
   "id": "1371d7f2-e43c-4637-b26d-9e9d5910f738",
   "metadata": {},
   "outputs": [
    {
     "name": "stdout",
     "output_type": "stream",
     "text": [
      "Series([], dtype: object)\n"
     ]
    }
   ],
   "source": [
    "# Creating empty series\n",
    "\n",
    "empty_s=pd.Series([])\n",
    "print(empty_s)"
   ]
  },
  {
   "cell_type": "code",
   "execution_count": 15,
   "id": "70652172-728e-41d3-8fb0-a9f672a1a7f9",
   "metadata": {},
   "outputs": [
    {
     "data": {
      "text/plain": [
       "a    1\n",
       "b    2\n",
       "c    3\n",
       "d    4\n",
       "dtype: int64"
      ]
     },
     "execution_count": 15,
     "metadata": {},
     "output_type": "execute_result"
    }
   ],
   "source": [
    "# How to change index value in series.\n",
    "\n",
    "series3=pd.Series([1,2,3,4],index=['a','b','c','d'])\n",
    "series3"
   ]
  },
  {
   "cell_type": "code",
   "execution_count": 17,
   "id": "64c68916-5860-4c3f-8b62-6204a3a8800e",
   "metadata": {},
   "outputs": [
    {
     "data": {
      "text/plain": [
       "a    1.0\n",
       "b    2.0\n",
       "c    3.0\n",
       "d    4.0\n",
       "dtype: float64"
      ]
     },
     "execution_count": 17,
     "metadata": {},
     "output_type": "execute_result"
    }
   ],
   "source": [
    "# How to change the data type in pandas.\n",
    "\n",
    "series3=pd.Series([1,2,3,4],index=['a','b','c','d'],dtype=float)\n",
    "series3"
   ]
  },
  {
   "cell_type": "code",
   "execution_count": 20,
   "id": "937393ad-bb4e-4125-9a8b-9a040f2fca42",
   "metadata": {},
   "outputs": [
    {
     "data": {
      "text/plain": [
       "a    1.0\n",
       "b    2.0\n",
       "c    3.0\n",
       "d    4.0\n",
       "Name: data Values, dtype: float64"
      ]
     },
     "execution_count": 20,
     "metadata": {},
     "output_type": "execute_result"
    }
   ],
   "source": [
    "# How to add values in column.\n",
    "\n",
    "series3=pd.Series([1,2,3,4],index=['a','b','c','d'],dtype=float,name=\"data Values\")\n",
    "series3"
   ]
  },
  {
   "cell_type": "code",
   "execution_count": 23,
   "id": "f553aacb-a354-4b4b-bc9e-2f930ab42988",
   "metadata": {},
   "outputs": [
    {
     "data": {
      "text/plain": [
       "0    0.5\n",
       "dtype: float64"
      ]
     },
     "execution_count": 23,
     "metadata": {},
     "output_type": "execute_result"
    }
   ],
   "source": [
    "# How to create a series in single value(Scaler)\n",
    "\n",
    "scaler_s=pd.Series(0.5)\n",
    "scaler_s"
   ]
  },
  {
   "cell_type": "code",
   "execution_count": 32,
   "id": "2e1d3067-f4b5-4d43-9018-e0b1b7fb653f",
   "metadata": {},
   "outputs": [
    {
     "data": {
      "text/plain": [
       "1    0.5\n",
       "2    0.5\n",
       "3    0.5\n",
       "dtype: float64"
      ]
     },
     "execution_count": 32,
     "metadata": {},
     "output_type": "execute_result"
    }
   ],
   "source": [
    "scaler_s=pd.Series(0.5, index=[1,2,3])\n",
    "scaler_s"
   ]
  },
  {
   "cell_type": "code",
   "execution_count": 36,
   "id": "10c68aae-54f5-4542-879b-e866a103fadc",
   "metadata": {},
   "outputs": [
    {
     "data": {
      "text/plain": [
       "a    10.0\n",
       "b    20.0\n",
       "c    30.0\n",
       "dtype: float64"
      ]
     },
     "execution_count": 36,
     "metadata": {},
     "output_type": "execute_result"
    }
   ],
   "source": [
    "# How to create dictionary by Series.\n",
    "\n",
    "dict_s=pd.Series({'a':10,'b':20,'c':30},dtype=float)\n",
    "dict_s"
   ]
  },
  {
   "cell_type": "code",
   "execution_count": 37,
   "id": "eeb65a21-218e-4fba-8316-5bf6a05ab882",
   "metadata": {},
   "outputs": [
    {
     "data": {
      "text/plain": [
       "0    1\n",
       "1    2\n",
       "2    3\n",
       "3    4\n",
       "4    5\n",
       "dtype: int64"
      ]
     },
     "execution_count": 37,
     "metadata": {},
     "output_type": "execute_result"
    }
   ],
   "source": [
    "# Understanding Operators.\n",
    "\n",
    "s4=pd.Series([1,2,3,4,5])\n",
    "s4"
   ]
  },
  {
   "cell_type": "code",
   "execution_count": 39,
   "id": "54ed7ae5-ae7e-47ce-98d3-dccc5f6b3e1f",
   "metadata": {},
   "outputs": [
    {
     "name": "stdout",
     "output_type": "stream",
     "text": [
      "1\n"
     ]
    }
   ],
   "source": [
    "# Accessing element.\n",
    "print(s4[0])"
   ]
  },
  {
   "cell_type": "code",
   "execution_count": 40,
   "id": "ab0c4312-88c8-4c26-8c1e-0394a3600b97",
   "metadata": {},
   "outputs": [
    {
     "data": {
      "text/plain": [
       "0    1\n",
       "1    2\n",
       "2    3\n",
       "3    4\n",
       "4    5\n",
       "dtype: int64"
      ]
     },
     "execution_count": 40,
     "metadata": {},
     "output_type": "execute_result"
    }
   ],
   "source": [
    "# Slicing an element.\n",
    "s4\n"
   ]
  },
  {
   "cell_type": "code",
   "execution_count": 41,
   "id": "cca80c3c-b30a-4950-8fe9-1bd3e71ced05",
   "metadata": {},
   "outputs": [
    {
     "data": {
      "text/plain": [
       "0    1\n",
       "1    2\n",
       "2    3\n",
       "dtype: int64"
      ]
     },
     "execution_count": 41,
     "metadata": {},
     "output_type": "execute_result"
    }
   ],
   "source": [
    "s4[0:3]"
   ]
  },
  {
   "cell_type": "code",
   "execution_count": 42,
   "id": "65c15b0e-e199-4c5a-8cd4-2a185f5dce78",
   "metadata": {},
   "outputs": [
    {
     "data": {
      "text/plain": [
       "0    1\n",
       "1    2\n",
       "2    3\n",
       "3    4\n",
       "4    5\n",
       "dtype: int64"
      ]
     },
     "execution_count": 42,
     "metadata": {},
     "output_type": "execute_result"
    }
   ],
   "source": [
    "# How to find maximum values in series.\n",
    "\n",
    "s4"
   ]
  },
  {
   "cell_type": "code",
   "execution_count": 43,
   "id": "64db8473-af2b-4b5c-8c8b-153c6762f67e",
   "metadata": {},
   "outputs": [
    {
     "data": {
      "text/plain": [
       "5"
      ]
     },
     "execution_count": 43,
     "metadata": {},
     "output_type": "execute_result"
    }
   ],
   "source": [
    "max(s4)"
   ]
  },
  {
   "cell_type": "code",
   "execution_count": 44,
   "id": "f160fda0-8196-47c9-8134-e26655046b30",
   "metadata": {},
   "outputs": [
    {
     "data": {
      "text/plain": [
       "1"
      ]
     },
     "execution_count": 44,
     "metadata": {},
     "output_type": "execute_result"
    }
   ],
   "source": [
    "# How to find minimun values in series.\n",
    "min(s4)"
   ]
  },
  {
   "cell_type": "code",
   "execution_count": 47,
   "id": "3c283fde-cfe0-48a6-bb90-3a8aedb6ed84",
   "metadata": {},
   "outputs": [
    {
     "data": {
      "text/plain": [
       "0    1\n",
       "1    2\n",
       "dtype: int64"
      ]
     },
     "execution_count": 47,
     "metadata": {},
     "output_type": "execute_result"
    }
   ],
   "source": [
    "# How to use condition operators in series.\n",
    "\n",
    "s4[s4<3]"
   ]
  },
  {
   "cell_type": "code",
   "execution_count": 48,
   "id": "a25c31bb-4abb-4467-aa18-9fed2325c53c",
   "metadata": {},
   "outputs": [
    {
     "data": {
      "text/plain": [
       "3    4\n",
       "4    5\n",
       "dtype: int64"
      ]
     },
     "execution_count": 48,
     "metadata": {},
     "output_type": "execute_result"
    }
   ],
   "source": [
    "s4[s4>3]"
   ]
  },
  {
   "cell_type": "code",
   "execution_count": 49,
   "id": "9bc1325a-1d6d-4a4b-b8df-fd133d458832",
   "metadata": {},
   "outputs": [
    {
     "name": "stdout",
     "output_type": "stream",
     "text": [
      "0    1\n",
      "1    2\n",
      "2    3\n",
      "3    4\n",
      "4    5\n",
      "dtype: int64\n"
     ]
    }
   ],
   "source": [
    "print(s4)"
   ]
  },
  {
   "cell_type": "code",
   "execution_count": 50,
   "id": "0f1bbab1-0f76-40a5-90f1-c0d7d7c48152",
   "metadata": {},
   "outputs": [
    {
     "data": {
      "text/plain": [
       "0    10\n",
       "1    20\n",
       "2    30\n",
       "3    40\n",
       "4    50\n",
       "dtype: int64"
      ]
     },
     "execution_count": 50,
     "metadata": {},
     "output_type": "execute_result"
    }
   ],
   "source": [
    "s5=pd.Series([10,20,30,40,50])\n",
    "s5"
   ]
  },
  {
   "cell_type": "code",
   "execution_count": 51,
   "id": "89e675f5-b512-4fc4-8746-fe72529a32c0",
   "metadata": {},
   "outputs": [
    {
     "name": "stdout",
     "output_type": "stream",
     "text": [
      "0    1\n",
      "1    2\n",
      "2    3\n",
      "3    4\n",
      "4    5\n",
      "dtype: int64\n",
      "0    10\n",
      "1    20\n",
      "2    30\n",
      "3    40\n",
      "4    50\n",
      "dtype: int64\n"
     ]
    }
   ],
   "source": [
    "print(s4)\n",
    "print(s5)"
   ]
  },
  {
   "cell_type": "code",
   "execution_count": 52,
   "id": "88caa7a5-8748-42b8-832e-7a51c3336aec",
   "metadata": {},
   "outputs": [
    {
     "data": {
      "text/plain": [
       "0    11\n",
       "1    22\n",
       "2    33\n",
       "3    44\n",
       "4    55\n",
       "dtype: int64"
      ]
     },
     "execution_count": 52,
     "metadata": {},
     "output_type": "execute_result"
    }
   ],
   "source": [
    "# Adding two series\n",
    "\n",
    "s4+s5"
   ]
  },
  {
   "cell_type": "code",
   "execution_count": 53,
   "id": "8a863b1b-45ee-410e-8f82-dc25917e7cb8",
   "metadata": {},
   "outputs": [
    {
     "data": {
      "text/plain": [
       "0    1\n",
       "1    2\n",
       "2    3\n",
       "dtype: int64"
      ]
     },
     "execution_count": 53,
     "metadata": {},
     "output_type": "execute_result"
    }
   ],
   "source": [
    "# Creating new Series Adding \n",
    "\n",
    "s6=pd.Series([1,2,3])\n",
    "s6"
   ]
  },
  {
   "cell_type": "code",
   "execution_count": 55,
   "id": "2eb39cc7-cceb-4bde-abbd-2481162cf602",
   "metadata": {},
   "outputs": [
    {
     "data": {
      "text/plain": [
       "0    2.0\n",
       "1    4.0\n",
       "2    6.0\n",
       "3    NaN\n",
       "4    NaN\n",
       "dtype: float64"
      ]
     },
     "execution_count": 55,
     "metadata": {},
     "output_type": "execute_result"
    }
   ],
   "source": [
    "s4+s6"
   ]
  },
  {
   "cell_type": "markdown",
   "id": "d665faa6-7096-4d26-9c50-e2dec35bf322",
   "metadata": {},
   "source": [
    "# DataFrame"
   ]
  },
  {
   "cell_type": "code",
   "execution_count": 56,
   "id": "5f8b458e-d083-454c-a8df-73107041bae3",
   "metadata": {},
   "outputs": [],
   "source": [
    "import pandas as pd"
   ]
  },
  {
   "cell_type": "code",
   "execution_count": 57,
   "id": "8470567c-ba56-423e-a988-a52355c22e0f",
   "metadata": {},
   "outputs": [
    {
     "name": "stdout",
     "output_type": "stream",
     "text": [
      "Empty DataFrame\n",
      "Columns: []\n",
      "Index: []\n"
     ]
    }
   ],
   "source": [
    "emp_df=pd.DataFrame()\n",
    "print(emp_df)"
   ]
  },
  {
   "cell_type": "code",
   "execution_count": 60,
   "id": "863cabde-c30e-4d16-89c4-470eb360aedf",
   "metadata": {},
   "outputs": [
    {
     "name": "stdout",
     "output_type": "stream",
     "text": [
      "['a', 'b', 'c', 'd']\n"
     ]
    }
   ],
   "source": [
    "# Creating a list\n",
    "\n",
    "lst=['a','b','c','d']\n",
    "print(lst)"
   ]
  },
  {
   "cell_type": "code",
   "execution_count": 61,
   "id": "71d0fc07-62cc-487d-aa27-5858bbe308ed",
   "metadata": {},
   "outputs": [
    {
     "data": {
      "text/html": [
       "<div>\n",
       "<style scoped>\n",
       "    .dataframe tbody tr th:only-of-type {\n",
       "        vertical-align: middle;\n",
       "    }\n",
       "\n",
       "    .dataframe tbody tr th {\n",
       "        vertical-align: top;\n",
       "    }\n",
       "\n",
       "    .dataframe thead th {\n",
       "        text-align: right;\n",
       "    }\n",
       "</style>\n",
       "<table border=\"1\" class=\"dataframe\">\n",
       "  <thead>\n",
       "    <tr style=\"text-align: right;\">\n",
       "      <th></th>\n",
       "      <th>0</th>\n",
       "    </tr>\n",
       "  </thead>\n",
       "  <tbody>\n",
       "    <tr>\n",
       "      <th>0</th>\n",
       "      <td>a</td>\n",
       "    </tr>\n",
       "    <tr>\n",
       "      <th>1</th>\n",
       "      <td>b</td>\n",
       "    </tr>\n",
       "    <tr>\n",
       "      <th>2</th>\n",
       "      <td>c</td>\n",
       "    </tr>\n",
       "    <tr>\n",
       "      <th>3</th>\n",
       "      <td>d</td>\n",
       "    </tr>\n",
       "  </tbody>\n",
       "</table>\n",
       "</div>"
      ],
      "text/plain": [
       "   0\n",
       "0  a\n",
       "1  b\n",
       "2  c\n",
       "3  d"
      ]
     },
     "execution_count": 61,
     "metadata": {},
     "output_type": "execute_result"
    }
   ],
   "source": [
    "# converting a list into a DataFrame\n",
    "\n",
    "df1=pd.DataFrame(lst)\n",
    "df1"
   ]
  },
  {
   "cell_type": "markdown",
   "id": "ca235ea2-d8b2-4d6c-8897-4b6acf6d269e",
   "metadata": {},
   "source": [
    "# Multiple column we create through list of list."
   ]
  },
  {
   "cell_type": "code",
   "execution_count": 62,
   "id": "25670ead-8ec1-4634-95a3-316ff02ecf93",
   "metadata": {},
   "outputs": [
    {
     "data": {
      "text/plain": [
       "[[1, 2, 3], [4, 5, 6], [2, 3, 4]]"
      ]
     },
     "execution_count": 62,
     "metadata": {},
     "output_type": "execute_result"
    }
   ],
   "source": [
    "lst_of_lst=[[1,2,3],[4,5,6],[2,3,4]]\n",
    "lst_of_lst"
   ]
  },
  {
   "cell_type": "code",
   "execution_count": 64,
   "id": "52b0f2a7-2e44-405a-9360-38e99b04f6a1",
   "metadata": {},
   "outputs": [
    {
     "data": {
      "text/html": [
       "<div>\n",
       "<style scoped>\n",
       "    .dataframe tbody tr th:only-of-type {\n",
       "        vertical-align: middle;\n",
       "    }\n",
       "\n",
       "    .dataframe tbody tr th {\n",
       "        vertical-align: top;\n",
       "    }\n",
       "\n",
       "    .dataframe thead th {\n",
       "        text-align: right;\n",
       "    }\n",
       "</style>\n",
       "<table border=\"1\" class=\"dataframe\">\n",
       "  <thead>\n",
       "    <tr style=\"text-align: right;\">\n",
       "      <th></th>\n",
       "      <th>0</th>\n",
       "      <th>1</th>\n",
       "      <th>2</th>\n",
       "    </tr>\n",
       "  </thead>\n",
       "  <tbody>\n",
       "    <tr>\n",
       "      <th>0</th>\n",
       "      <td>1</td>\n",
       "      <td>2</td>\n",
       "      <td>3</td>\n",
       "    </tr>\n",
       "    <tr>\n",
       "      <th>1</th>\n",
       "      <td>4</td>\n",
       "      <td>5</td>\n",
       "      <td>6</td>\n",
       "    </tr>\n",
       "    <tr>\n",
       "      <th>2</th>\n",
       "      <td>2</td>\n",
       "      <td>3</td>\n",
       "      <td>4</td>\n",
       "    </tr>\n",
       "  </tbody>\n",
       "</table>\n",
       "</div>"
      ],
      "text/plain": [
       "   0  1  2\n",
       "0  1  2  3\n",
       "1  4  5  6\n",
       "2  2  3  4"
      ]
     },
     "execution_count": 64,
     "metadata": {},
     "output_type": "execute_result"
    }
   ],
   "source": [
    "df2=pd.DataFrame(lst_of_lst)\n",
    "df2"
   ]
  },
  {
   "cell_type": "code",
   "execution_count": 69,
   "id": "47682b4f-66b3-48a6-89a6-c694fe59bc03",
   "metadata": {},
   "outputs": [
    {
     "data": {
      "text/plain": [
       "{'Id': [11, 22, 33, 44], 'Name': ['Ram', 'Shyam', 'Laxman', 'Bharat']}"
      ]
     },
     "execution_count": 69,
     "metadata": {},
     "output_type": "execute_result"
    }
   ],
   "source": [
    "# Creating pandas DataFrame from python dictionary(dictioanry of list)\n",
    "\n",
    "# Creating Dictionary\n",
    "\n",
    "dict1={'Id':[11,22,33,44],\"Name\":[\"Ram\",\"Shyam\",\"Laxman\",\"Bharat\"]}\n",
    "dict1"
   ]
  },
  {
   "cell_type": "code",
   "execution_count": 70,
   "id": "63fe01fc-1e90-450c-ac1d-eadd4051c359",
   "metadata": {},
   "outputs": [
    {
     "data": {
      "text/html": [
       "<div>\n",
       "<style scoped>\n",
       "    .dataframe tbody tr th:only-of-type {\n",
       "        vertical-align: middle;\n",
       "    }\n",
       "\n",
       "    .dataframe tbody tr th {\n",
       "        vertical-align: top;\n",
       "    }\n",
       "\n",
       "    .dataframe thead th {\n",
       "        text-align: right;\n",
       "    }\n",
       "</style>\n",
       "<table border=\"1\" class=\"dataframe\">\n",
       "  <thead>\n",
       "    <tr style=\"text-align: right;\">\n",
       "      <th></th>\n",
       "      <th>Id</th>\n",
       "      <th>Name</th>\n",
       "    </tr>\n",
       "  </thead>\n",
       "  <tbody>\n",
       "    <tr>\n",
       "      <th>0</th>\n",
       "      <td>11</td>\n",
       "      <td>Ram</td>\n",
       "    </tr>\n",
       "    <tr>\n",
       "      <th>1</th>\n",
       "      <td>22</td>\n",
       "      <td>Shyam</td>\n",
       "    </tr>\n",
       "    <tr>\n",
       "      <th>2</th>\n",
       "      <td>33</td>\n",
       "      <td>Laxman</td>\n",
       "    </tr>\n",
       "    <tr>\n",
       "      <th>3</th>\n",
       "      <td>44</td>\n",
       "      <td>Bharat</td>\n",
       "    </tr>\n",
       "  </tbody>\n",
       "</table>\n",
       "</div>"
      ],
      "text/plain": [
       "   Id    Name\n",
       "0  11     Ram\n",
       "1  22   Shyam\n",
       "2  33  Laxman\n",
       "3  44  Bharat"
      ]
     },
     "execution_count": 70,
     "metadata": {},
     "output_type": "execute_result"
    }
   ],
   "source": [
    "# Converting dictionary into DataFrame\n",
    "df3=pd.DataFrame(dict1)\n",
    "df3"
   ]
  },
  {
   "cell_type": "code",
   "execution_count": null,
   "id": "73cfd951-aa2c-4700-bf1b-d65ea3bb6ed4",
   "metadata": {},
   "outputs": [],
   "source": []
  }
 ],
 "metadata": {
  "kernelspec": {
   "display_name": "Python 3 (ipykernel)",
   "language": "python",
   "name": "python3"
  },
  "language_info": {
   "codemirror_mode": {
    "name": "ipython",
    "version": 3
   },
   "file_extension": ".py",
   "mimetype": "text/x-python",
   "name": "python",
   "nbconvert_exporter": "python",
   "pygments_lexer": "ipython3",
   "version": "3.11.4"
  }
 },
 "nbformat": 4,
 "nbformat_minor": 5
}
